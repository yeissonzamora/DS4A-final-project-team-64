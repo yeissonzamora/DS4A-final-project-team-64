{
 "cells": [
  {
   "cell_type": "code",
   "execution_count": null,
   "metadata": {},
   "outputs": [],
   "source": [
    "#import the libraries needed\n",
    "import psycopg2\n",
    "import pandas as pd\n"
   ]
  },
  {
   "cell_type": "code",
   "execution_count": 76,
   "metadata": {},
   "outputs": [
    {
     "name": "stdout",
     "output_type": "stream",
     "text": [
      "Upload Finished\n"
     ]
    }
   ],
   "source": [
    "# Masive load data from python\n",
    "from io import StringIO # python3; python2: BytesIO \n",
    "import io\n",
    "\n",
    "output = io.StringIO()\n",
    "df_new.to_csv(output, sep=';', header=False, index=False)\n",
    "output.seek(0)\n",
    "contents = output.getvalue()\n",
    "cur.copy_from(output, 'staging_covid_270102020', sep =';', null='') \n",
    "conn.commit()\n",
    "conn.close()\n",
    "print(\"Upload Finished\")"
   ]
  },
  {
   "cell_type": "code",
   "execution_count": 76,
   "metadata": {},
   "outputs": [
    {
     "name": "stdout",
     "output_type": "stream",
     "text": [
      "Upload Finished\n"
     ]
    }
   ],
   "source": [
    "# Masive load data from python\n",
    "from io import StringIO # python3; python2: BytesIO \n",
    "import io\n",
    "\n",
    "output = io.StringIO()\n",
    "df_new.to_csv(output, sep=';', header=False, index=False)\n",
    "output.seek(0)\n",
    "contents = output.getvalue()\n",
    "cur.copy_from(output, 'staging_covid_270102020', sep =';', null='') \n",
    "conn.commit()\n",
    "conn.close()\n",
    "print(\"Upload Finished\")"
   ]
  },
  {
   "cell_type": "code",
   "execution_count": 76,
   "metadata": {},
   "outputs": [
    {
     "name": "stdout",
     "output_type": "stream",
     "text": [
      "Upload Finished\n"
     ]
    }
   ],
   "source": [
    "# Masive load data from python\n",
    "from io import StringIO # python3; python2: BytesIO \n",
    "import io\n",
    "\n",
    "output = io.StringIO()\n",
    "df_new.to_csv(output, sep=';', header=False, index=False)\n",
    "output.seek(0)\n",
    "contents = output.getvalue()\n",
    "cur.copy_from(output, 'staging_covid_270102020', sep =';', null='') \n",
    "conn.commit()\n",
    "conn.close()\n",
    "print(\"Upload Finished\")"
   ]
  },
  {
   "cell_type": "code",
   "execution_count": 76,
   "metadata": {},
   "outputs": [
    {
     "name": "stdout",
     "output_type": "stream",
     "text": [
      "Upload Finished\n"
     ]
    }
   ],
   "source": [
    "# Masive load data from python\n",
    "from io import StringIO # python3; python2: BytesIO \n",
    "import io\n",
    "\n",
    "output = io.StringIO()\n",
    "df_new.to_csv(output, sep=';', header=False, index=False)\n",
    "output.seek(0)\n",
    "contents = output.getvalue()\n",
    "cur.copy_from(output, 'staging_covid_270102020', sep =';', null='') \n",
    "conn.commit()\n",
    "conn.close()\n",
    "print(\"Upload Finished\")"
   ]
  },
  {
   "cell_type": "code",
   "execution_count": 76,
   "metadata": {},
   "outputs": [
    {
     "name": "stdout",
     "output_type": "stream",
     "text": [
      "Upload Finished\n"
     ]
    }
   ],
   "source": [
    "# Masive load data from python\n",
    "from io import StringIO # python3; python2: BytesIO \n",
    "import io\n",
    "\n",
    "output = io.StringIO()\n",
    "df_new.to_csv(output, sep=';', header=False, index=False)\n",
    "output.seek(0)\n",
    "contents = output.getvalue()\n",
    "cur.copy_from(output, 'staging_covid_270102020', sep =';', null='') \n",
    "conn.commit()\n",
    "conn.close()\n",
    "print(\"Upload Finished\")"
   ]
  },
  {
   "cell_type": "code",
   "execution_count": 76,
   "metadata": {},
   "outputs": [
    {
     "name": "stdout",
     "output_type": "stream",
     "text": [
      "Upload Finished\n"
     ]
    }
   ],
   "source": [
    "# Masive load data from python\n",
    "from io import StringIO # python3; python2: BytesIO \n",
    "import io\n",
    "\n",
    "output = io.StringIO()\n",
    "df_new.to_csv(output, sep=';', header=False, index=False)\n",
    "output.seek(0)\n",
    "contents = output.getvalue()\n",
    "cur.copy_from(output, 'staging_covid_270102020', sep =';', null='') \n",
    "conn.commit()\n",
    "conn.close()\n",
    "print(\"Upload Finished\")"
   ]
  },
  {
   "cell_type": "code",
   "execution_count": 76,
   "metadata": {},
   "outputs": [
    {
     "name": "stdout",
     "output_type": "stream",
     "text": [
      "Upload Finished\n"
     ]
    }
   ],
   "source": [
    "# Masive load data from python\n",
    "from io import StringIO # python3; python2: BytesIO \n",
    "import io\n",
    "\n",
    "output = io.StringIO()\n",
    "df_new.to_csv(output, sep=';', header=False, index=False)\n",
    "output.seek(0)\n",
    "contents = output.getvalue()\n",
    "cur.copy_from(output, 'staging_covid_270102020', sep =';', null='') \n",
    "conn.commit()\n",
    "conn.close()\n",
    "print(\"Upload Finished\")"
   ]
  },
  {
   "cell_type": "code",
   "execution_count": 76,
   "metadata": {},
   "outputs": [
    {
     "name": "stdout",
     "output_type": "stream",
     "text": [
      "Upload Finished\n"
     ]
    }
   ],
   "source": [
    "# Masive load data from python\n",
    "from io import StringIO # python3; python2: BytesIO \n",
    "import io\n",
    "\n",
    "output = io.StringIO()\n",
    "df_new.to_csv(output, sep=';', header=False, index=False)\n",
    "output.seek(0)\n",
    "contents = output.getvalue()\n",
    "cur.copy_from(output, 'staging_covid_270102020', sep =';', null='') \n",
    "conn.commit()\n",
    "conn.close()\n",
    "print(\"Upload Finished\")"
   ]
  },
  {
   "cell_type": "code",
   "execution_count": 76,
   "metadata": {},
   "outputs": [
    {
     "name": "stdout",
     "output_type": "stream",
     "text": [
      "Upload Finished\n"
     ]
    }
   ],
   "source": [
    "# Masive load data from python\n",
    "from io import StringIO # python3; python2: BytesIO \n",
    "import io\n",
    "\n",
    "output = io.StringIO()\n",
    "df_new.to_csv(output, sep=';', header=False, index=False)\n",
    "output.seek(0)\n",
    "contents = output.getvalue()\n",
    "cur.copy_from(output, 'staging_covid_270102020', sep =';', null='') \n",
    "conn.commit()\n",
    "conn.close()\n",
    "print(\"Upload Finished\")"
   ]
  },
  {
   "cell_type": "code",
   "execution_count": 76,
   "metadata": {},
   "outputs": [
    {
     "name": "stdout",
     "output_type": "stream",
     "text": [
      "Upload Finished\n"
     ]
    }
   ],
   "source": [
    "# Masive load data from python\n",
    "from io import StringIO # python3; python2: BytesIO \n",
    "import io\n",
    "\n",
    "output = io.StringIO()\n",
    "df_new.to_csv(output, sep=';', header=False, index=False)\n",
    "output.seek(0)\n",
    "contents = output.getvalue()\n",
    "cur.copy_from(output, 'staging_covid_270102020', sep =';', null='') \n",
    "conn.commit()\n",
    "conn.close()\n",
    "print(\"Upload Finished\")"
   ]
  },
  {
   "cell_type": "code",
   "execution_count": 76,
   "metadata": {},
   "outputs": [
    {
     "name": "stdout",
     "output_type": "stream",
     "text": [
      "Upload Finished\n"
     ]
    }
   ],
   "source": [
    "# Masive load data from python\n",
    "from io import StringIO # python3; python2: BytesIO \n",
    "import io\n",
    "\n",
    "output = io.StringIO()\n",
    "df_new.to_csv(output, sep=';', header=False, index=False)\n",
    "output.seek(0)\n",
    "contents = output.getvalue()\n",
    "cur.copy_from(output, 'staging_covid_270102020', sep =';', null='') \n",
    "conn.commit()\n",
    "conn.close()\n",
    "print(\"Upload Finished\")"
   ]
  },
  {
   "cell_type": "code",
   "execution_count": 76,
   "metadata": {},
   "outputs": [
    {
     "name": "stdout",
     "output_type": "stream",
     "text": [
      "Upload Finished\n"
     ]
    }
   ],
   "source": [
    "# Masive load data from python\n",
    "from io import StringIO # python3; python2: BytesIO \n",
    "import io\n",
    "\n",
    "output = io.StringIO()\n",
    "df_new.to_csv(output, sep=';', header=False, index=False)\n",
    "output.seek(0)\n",
    "contents = output.getvalue()\n",
    "cur.copy_from(output, 'staging_covid_270102020', sep =';', null='') \n",
    "conn.commit()\n",
    "conn.close()\n",
    "print(\"Upload Finished\")"
   ]
  },
  {
   "cell_type": "code",
   "execution_count": 76,
   "metadata": {},
   "outputs": [
    {
     "name": "stdout",
     "output_type": "stream",
     "text": [
      "Upload Finished\n"
     ]
    }
   ],
   "source": [
    "# Masive load data from python\n",
    "from io import StringIO # python3; python2: BytesIO \n",
    "import io\n",
    "\n",
    "output = io.StringIO()\n",
    "df_new.to_csv(output, sep=';', header=False, index=False)\n",
    "output.seek(0)\n",
    "contents = output.getvalue()\n",
    "cur.copy_from(output, 'staging_covid_270102020', sep =';', null='') \n",
    "conn.commit()\n",
    "conn.close()\n",
    "print(\"Upload Finished\")"
   ]
  },
  {
   "cell_type": "code",
   "execution_count": 76,
   "metadata": {},
   "outputs": [
    {
     "name": "stdout",
     "output_type": "stream",
     "text": [
      "Upload Finished\n"
     ]
    }
   ],
   "source": [
    "# Masive load data from python\n",
    "from io import StringIO # python3; python2: BytesIO \n",
    "import io\n",
    "\n",
    "output = io.StringIO()\n",
    "df_new.to_csv(output, sep=';', header=False, index=False)\n",
    "output.seek(0)\n",
    "contents = output.getvalue()\n",
    "cur.copy_from(output, 'staging_covid_270102020', sep =';', null='') \n",
    "conn.commit()\n",
    "conn.close()\n",
    "print(\"Upload Finished\")"
   ]
  },
  {
   "cell_type": "code",
   "execution_count": 76,
   "metadata": {},
   "outputs": [
    {
     "name": "stdout",
     "output_type": "stream",
     "text": [
      "Upload Finished\n"
     ]
    }
   ],
   "source": [
    "# Masive load data from python\n",
    "from io import StringIO # python3; python2: BytesIO \n",
    "import io\n",
    "\n",
    "output = io.StringIO()\n",
    "df_new.to_csv(output, sep=';', header=False, index=False)\n",
    "output.seek(0)\n",
    "contents = output.getvalue()\n",
    "cur.copy_from(output, 'staging_covid_270102020', sep =';', null='') \n",
    "conn.commit()\n",
    "conn.close()\n",
    "print(\"Upload Finished\")"
   ]
  },
  {
   "cell_type": "code",
   "execution_count": 76,
   "metadata": {},
   "outputs": [
    {
     "name": "stdout",
     "output_type": "stream",
     "text": [
      "Upload Finished\n"
     ]
    }
   ],
   "source": [
    "# Masive load data from python\n",
    "from io import StringIO # python3; python2: BytesIO \n",
    "import io\n",
    "\n",
    "output = io.StringIO()\n",
    "df_new.to_csv(output, sep=';', header=False, index=False)\n",
    "output.seek(0)\n",
    "contents = output.getvalue()\n",
    "cur.copy_from(output, 'staging_covid_270102020', sep =';', null='') \n",
    "conn.commit()\n",
    "conn.close()\n",
    "print(\"Upload Finished\")"
   ]
  },
  {
   "cell_type": "code",
   "execution_count": 76,
   "metadata": {},
   "outputs": [
    {
     "name": "stdout",
     "output_type": "stream",
     "text": [
      "Upload Finished\n"
     ]
    }
   ],
   "source": [
    "# Masive load data from python\n",
    "from io import StringIO # python3; python2: BytesIO \n",
    "import io\n",
    "\n",
    "output = io.StringIO()\n",
    "df_new.to_csv(output, sep=';', header=False, index=False)\n",
    "output.seek(0)\n",
    "contents = output.getvalue()\n",
    "cur.copy_from(output, 'staging_covid_270102020', sep =';', null='') \n",
    "conn.commit()\n",
    "conn.close()\n",
    "print(\"Upload Finished\")"
   ]
  },
  {
   "cell_type": "code",
   "execution_count": 76,
   "metadata": {},
   "outputs": [
    {
     "name": "stdout",
     "output_type": "stream",
     "text": [
      "Upload Finished\n"
     ]
    }
   ],
   "source": [
    "# Masive load data from python\n",
    "from io import StringIO # python3; python2: BytesIO \n",
    "import io\n",
    "\n",
    "output = io.StringIO()\n",
    "df_new.to_csv(output, sep=';', header=False, index=False)\n",
    "output.seek(0)\n",
    "contents = output.getvalue()\n",
    "cur.copy_from(output, 'staging_covid_270102020', sep =';', null='') \n",
    "conn.commit()\n",
    "conn.close()\n",
    "print(\"Upload Finished\")"
   ]
  },
  {
   "cell_type": "code",
   "execution_count": 76,
   "metadata": {},
   "outputs": [
    {
     "name": "stdout",
     "output_type": "stream",
     "text": [
      "Upload Finished\n"
     ]
    }
   ],
   "source": [
    "# Masive load data from python\n",
    "from io import StringIO # python3; python2: BytesIO \n",
    "import io\n",
    "\n",
    "output = io.StringIO()\n",
    "df_new.to_csv(output, sep=';', header=False, index=False)\n",
    "output.seek(0)\n",
    "contents = output.getvalue()\n",
    "cur.copy_from(output, 'staging_covid_270102020', sep =';', null='') \n",
    "conn.commit()\n",
    "conn.close()\n",
    "print(\"Upload Finished\")"
   ]
  },
  {
   "cell_type": "code",
   "execution_count": 76,
   "metadata": {},
   "outputs": [
    {
     "name": "stdout",
     "output_type": "stream",
     "text": [
      "Upload Finished\n"
     ]
    }
   ],
   "source": [
    "# Masive load data from python\n",
    "from io import StringIO # python3; python2: BytesIO \n",
    "import io\n",
    "\n",
    "output = io.StringIO()\n",
    "df_new.to_csv(output, sep=';', header=False, index=False)\n",
    "output.seek(0)\n",
    "contents = output.getvalue()\n",
    "cur.copy_from(output, 'staging_covid_270102020', sep =';', null='') \n",
    "conn.commit()\n",
    "conn.close()\n",
    "print(\"Upload Finished\")"
   ]
  },
  {
   "cell_type": "code",
   "execution_count": 76,
   "metadata": {},
   "outputs": [
    {
     "name": "stdout",
     "output_type": "stream",
     "text": [
      "Upload Finished\n"
     ]
    }
   ],
   "source": [
    "# Masive load data from python\n",
    "from io import StringIO # python3; python2: BytesIO \n",
    "import io\n",
    "\n",
    "output = io.StringIO()\n",
    "df_new.to_csv(output, sep=';', header=False, index=False)\n",
    "output.seek(0)\n",
    "contents = output.getvalue()\n",
    "cur.copy_from(output, 'staging_covid_270102020', sep =';', null='') \n",
    "conn.commit()\n",
    "conn.close()\n",
    "print(\"Upload Finished\")"
   ]
  },
  {
   "cell_type": "code",
   "execution_count": 76,
   "metadata": {},
   "outputs": [
    {
     "name": "stdout",
     "output_type": "stream",
     "text": [
      "Upload Finished\n"
     ]
    }
   ],
   "source": [
    "# Masive load data from python\n",
    "from io import StringIO # python3; python2: BytesIO \n",
    "import io\n",
    "\n",
    "output = io.StringIO()\n",
    "df_new.to_csv(output, sep=';', header=False, index=False)\n",
    "output.seek(0)\n",
    "contents = output.getvalue()\n",
    "cur.copy_from(output, 'staging_covid_270102020', sep =';', null='') \n",
    "conn.commit()\n",
    "conn.close()\n",
    "print(\"Upload Finished\")"
   ]
  },
  {
   "cell_type": "code",
   "execution_count": 76,
   "metadata": {},
   "outputs": [
    {
     "name": "stdout",
     "output_type": "stream",
     "text": [
      "Upload Finished\n"
     ]
    }
   ],
   "source": [
    "# Masive load data from python\n",
    "from io import StringIO # python3; python2: BytesIO \n",
    "import io\n",
    "\n",
    "output = io.StringIO()\n",
    "df_new.to_csv(output, sep=';', header=False, index=False)\n",
    "output.seek(0)\n",
    "contents = output.getvalue()\n",
    "cur.copy_from(output, 'staging_covid_270102020', sep =';', null='') \n",
    "conn.commit()\n",
    "conn.close()\n",
    "print(\"Upload Finished\")"
   ]
  },
  {
   "cell_type": "code",
   "execution_count": 76,
   "metadata": {},
   "outputs": [
    {
     "name": "stdout",
     "output_type": "stream",
     "text": [
      "Upload Finished\n"
     ]
    }
   ],
   "source": [
    "# Masive load data from python\n",
    "from io import StringIO # python3; python2: BytesIO \n",
    "import io\n",
    "\n",
    "output = io.StringIO()\n",
    "df_new.to_csv(output, sep=';', header=False, index=False)\n",
    "output.seek(0)\n",
    "contents = output.getvalue()\n",
    "cur.copy_from(output, 'staging_covid_270102020', sep =';', null='') \n",
    "conn.commit()\n",
    "conn.close()\n",
    "print(\"Upload Finished\")"
   ]
  },
  {
   "cell_type": "code",
   "execution_count": 76,
   "metadata": {},
   "outputs": [
    {
     "name": "stdout",
     "output_type": "stream",
     "text": [
      "Upload Finished\n"
     ]
    }
   ],
   "source": [
    "# Masive load data from python\n",
    "from io import StringIO # python3; python2: BytesIO \n",
    "import io\n",
    "\n",
    "output = io.StringIO()\n",
    "df_new.to_csv(output, sep=';', header=False, index=False)\n",
    "output.seek(0)\n",
    "contents = output.getvalue()\n",
    "cur.copy_from(output, 'staging_covid_270102020', sep =';', null='') \n",
    "conn.commit()\n",
    "conn.close()\n",
    "print(\"Upload Finished\")"
   ]
  },
  {
   "cell_type": "code",
   "execution_count": 76,
   "metadata": {},
   "outputs": [
    {
     "name": "stdout",
     "output_type": "stream",
     "text": [
      "Upload Finished\n"
     ]
    }
   ],
   "source": [
    "# Masive load data from python\n",
    "from io import StringIO # python3; python2: BytesIO \n",
    "import io\n",
    "\n",
    "output = io.StringIO()\n",
    "df_new.to_csv(output, sep=';', header=False, index=False)\n",
    "output.seek(0)\n",
    "contents = output.getvalue()\n",
    "cur.copy_from(output, 'staging_covid_270102020', sep =';', null='') \n",
    "conn.commit()\n",
    "conn.close()\n",
    "print(\"Upload Finished\")"
   ]
  },
  {
   "cell_type": "code",
   "execution_count": 76,
   "metadata": {},
   "outputs": [
    {
     "name": "stdout",
     "output_type": "stream",
     "text": [
      "Upload Finished\n"
     ]
    }
   ],
   "source": [
    "# Masive load data from python\n",
    "from io import StringIO # python3; python2: BytesIO \n",
    "import io\n",
    "\n",
    "output = io.StringIO()\n",
    "df_new.to_csv(output, sep=';', header=False, index=False)\n",
    "output.seek(0)\n",
    "contents = output.getvalue()\n",
    "cur.copy_from(output, 'staging_covid_270102020', sep =';', null='') \n",
    "conn.commit()\n",
    "conn.close()\n",
    "print(\"Upload Finished\")"
   ]
  },
  {
   "cell_type": "code",
   "execution_count": 76,
   "metadata": {},
   "outputs": [
    {
     "name": "stdout",
     "output_type": "stream",
     "text": [
      "Upload Finished\n"
     ]
    }
   ],
   "source": [
    "# Masive load data from python\n",
    "from io import StringIO # python3; python2: BytesIO \n",
    "import io\n",
    "\n",
    "output = io.StringIO()\n",
    "df_new.to_csv(output, sep=';', header=False, index=False)\n",
    "output.seek(0)\n",
    "contents = output.getvalue()\n",
    "cur.copy_from(output, 'staging_covid_270102020', sep =';', null='') \n",
    "conn.commit()\n",
    "conn.close()\n",
    "print(\"Upload Finished\")"
   ]
  },
  {
   "cell_type": "code",
   "execution_count": 76,
   "metadata": {},
   "outputs": [
    {
     "name": "stdout",
     "output_type": "stream",
     "text": [
      "Upload Finished\n"
     ]
    }
   ],
   "source": [
    "# Masive load data from python\n",
    "from io import StringIO # python3; python2: BytesIO \n",
    "import io\n",
    "\n",
    "output = io.StringIO()\n",
    "df_new.to_csv(output, sep=';', header=False, index=False)\n",
    "output.seek(0)\n",
    "contents = output.getvalue()\n",
    "cur.copy_from(output, 'staging_covid_270102020', sep =';', null='') \n",
    "conn.commit()\n",
    "conn.close()\n",
    "print(\"Upload Finished\")"
   ]
  },
  {
   "cell_type": "code",
   "execution_count": 76,
   "metadata": {},
   "outputs": [
    {
     "name": "stdout",
     "output_type": "stream",
     "text": [
      "Upload Finished\n"
     ]
    }
   ],
   "source": [
    "# Masive load data from python\n",
    "from io import StringIO # python3; python2: BytesIO \n",
    "import io\n",
    "\n",
    "output = io.StringIO()\n",
    "df_new.to_csv(output, sep=';', header=False, index=False)\n",
    "output.seek(0)\n",
    "contents = output.getvalue()\n",
    "cur.copy_from(output, 'staging_covid_270102020', sep =';', null='') \n",
    "conn.commit()\n",
    "conn.close()\n",
    "print(\"Upload Finished\")"
   ]
  },
  {
   "cell_type": "code",
   "execution_count": null,
   "metadata": {},
   "outputs": [],
   "source": [
    "#Save the parameters that will create the connection to the database\n",
    "HOST = 'bucaramanga-ds4a.clf0f3kzvlpj.us-east-1.rds.amazonaws.com'\n",
    "DB_NAME = 'postgres'\n",
    "DB_USER = 'postgres'\n",
    "DB_PASSWORD = 'ds4abucaramanga'\n",
    "DB_PORT = 5432"
   ]
  },
  {
   "cell_type": "code",
   "execution_count": null,
   "metadata": {},
   "outputs": [],
   "source": [
    "#string with the connection statement \n",
    "connect_string = fr\"host='{HOST}' dbname='{DB_NAME}' user='{DB_USER}' password='{DB_PASSWORD}' port='{DB_PORT}'\"\n",
    "print(connect_string)"
   ]
  },
  {
   "cell_type": "code",
   "execution_count": null,
   "metadata": {},
   "outputs": [],
   "source": [
    "#connect to the database using psycopg2\n",
    "conn = psycopg2.connect(connect_string)\n",
    "cur = conn.cursor()"
   ]
  },
  {
   "cell_type": "code",
   "execution_count": null,
   "metadata": {},
   "outputs": [],
   "source": [
    "#read the dataset provided by the entity\n",
    "df_new = pd.read_excel(fr\"C:\\Users\\David O\\ds4a\\project\\_IRA POR VIRUS NUEVO BUCA 270102020.xlsx\", sheet_name = 'Coronavirus Bucaramanga', encoding = 'iso-8859-1')"
   ]
  },
  {
   "cell_type": "code",
   "execution_count": null,
   "metadata": {},
   "outputs": [],
   "source": [
    "#save the dataset in AWS s3\n",
    "from io import StringIO #upload data to s3\n",
    "import boto3\n",
    "\n",
    "bucket = 'ds4a-bucket-64' \n",
    "\n",
    "csv_buffer = StringIO()\n",
    "df_new.to_csv(csv_buffer, index = False, header = False)\n",
    "\n",
    "s3_resource = boto3.resource('s3', \n",
    "         aws_access_key_id='',\n",
    "         aws_secret_access_key= '')\n",
    "\n",
    "s3_resource.Object(bucket, 'df.csv').put(Body=csv_buffer.getvalue())"
   ]
  },
  {
   "cell_type": "code",
   "execution_count": null,
   "metadata": {},
   "outputs": [],
   "source": [
    "#drop table if exists\n",
    "cur.execute(\"DROP TABLE IF EXISTS staging_covid_270102020\")\n",
    "conn.commit()"
   ]
  },
  {
   "cell_type": "code",
   "execution_count": null,
   "metadata": {},
   "outputs": [],
   "source": [
    "# create state of the table\n",
    "query_full = '''\n",
    "CREATE TABLE staging_covid_270102020 (\n",
    "        cod_eve DECIMAL ,\n",
    "        fec_not VARCHAR ,\n",
    "        semana DECIMAL ,\n",
    "        \"año\" DECIMAL ,\n",
    "        cod_pre DECIMAL,\n",
    "        cod_sub DECIMAL,\n",
    "        pri_nom_ VARCHAR,\n",
    "        seg_nom_ VARCHAR,\n",
    "        pri_ape_ VARCHAR,\n",
    "        seg_ape_ VARCHAR,\n",
    "        tip_ide_ VARCHAR,\n",
    "        num_ide_ VARCHAR ,\n",
    "        edad_ DECIMAL ,\n",
    "        uni_med_ DECIMAL ,\n",
    "        unidedad DECIMAL ,\n",
    "        nacionali_ DECIMAL ,\n",
    "        nombre_nacionalidad VARCHAR ,\n",
    "        sexo_ VARCHAR ,\n",
    "        cod_pais_o VARCHAR,\n",
    "        cod_dpto_o VARCHAR,\n",
    "        cod_mun_o VARCHAR,\n",
    "        area_ VARCHAR,\n",
    "        localidad_ VARCHAR,\n",
    "        cen_pobla_ VARCHAR,\n",
    "        vereda_ VARCHAR,\n",
    "        bar_ver_ VARCHAR ,\n",
    "        \"NUMERO COMUNA\" DECIMAL,\n",
    "        \"NOMCOMUNA\" VARCHAR,\n",
    "        \"COMUNA\" VARCHAR ,\n",
    "        dir_res_ VARCHAR,\n",
    "        ocupacion_ VARCHAR,\n",
    "        tip_ss_ VARCHAR,\n",
    "        cod_ase_ VARCHAR,\n",
    "        \"NOMBRE EPS\" VARCHAR ,\n",
    "        per_etn_ VARCHAR,\n",
    "        nom_grupo_ VARCHAR,\n",
    "        estrato VARCHAR,\n",
    "        gp_discapa DECIMAL ,\n",
    "        gp_desplaz DECIMAL ,\n",
    "        gp_migrant DECIMAL ,\n",
    "        gp_carcela DECIMAL ,\n",
    "        gp_gestan DECIMAL ,\n",
    "        sem_ges VARCHAR,\n",
    "        gp_indigen DECIMAL ,\n",
    "        gp_pobicbf DECIMAL ,\n",
    "        gp_mad_com DECIMAL ,\n",
    "        gp_desmovi DECIMAL ,\n",
    "        gp_psiquia DECIMAL ,\n",
    "        gp_vic_vio DECIMAL ,\n",
    "        gp_otros DECIMAL ,\n",
    "        fuente DECIMAL,\n",
    "        cod_dpto_r DECIMAL,\n",
    "        cod_mun_r DECIMAL,\n",
    "        fec_con_ VARCHAR,\n",
    "        ini_sin_ VARCHAR,\n",
    "        tip_cas_ DECIMAL ,\n",
    "        pac_hos_ DECIMAL ,\n",
    "        fec_hos_ VARCHAR,\n",
    "        con_fin_ DECIMAL ,\n",
    "        fec_def_ VARCHAR,\n",
    "        ajuste_ VARCHAR ,\n",
    "        telefono_ VARCHAR,\n",
    "        fecha_nto_ VARCHAR,\n",
    "        cer_def_ DECIMAL,\n",
    "        cbmte_ VARCHAR,\n",
    "        uni_modif DECIMAL,\n",
    "        nuni_modif VARCHAR,\n",
    "        fec_arc_xl VARCHAR,\n",
    "        nom_dil_f_ VARCHAR,\n",
    "        tel_dil_f_ VARCHAR,\n",
    "        fec_aju_ VARCHAR,\n",
    "        nit_upgd DECIMAL,\n",
    "        fm_fuerza DECIMAL,\n",
    "        fm_unidad DECIMAL,\n",
    "        fm_grado DECIMAL,\n",
    "        version VARCHAR,\n",
    "        trab_salud DECIMAL ,\n",
    "        deter_clin DECIMAL,\n",
    "        asoc_brote DECIMAL,\n",
    "        \"viajó\" DECIMAL ,\n",
    "        municipio VARCHAR,\n",
    "        codpais_pr DECIMAL,\n",
    "        internal VARCHAR ,\n",
    "        con_con DECIMAL,\n",
    "        con_est DECIMAL,\n",
    "        tos DECIMAL ,\n",
    "        fiebre DECIMAL ,\n",
    "        odinofagia DECIMAL ,\n",
    "        dif_res DECIMAL ,\n",
    "        adinamia DECIMAL ,\n",
    "        vac_ei DECIMAL,\n",
    "        dos_ei DECIMAL,\n",
    "        asma DECIMAL ,\n",
    "        epoc DECIMAL ,\n",
    "        diabetes DECIMAL ,\n",
    "        vih DECIMAL ,\n",
    "        enf_card DECIMAL ,\n",
    "        cancer DECIMAL ,\n",
    "        desnutricion DECIMAL ,\n",
    "        obesidad DECIMAL ,\n",
    "        ins_renal DECIMAL ,\n",
    "        otr_medinm DECIMAL ,\n",
    "        fumador DECIMAL ,\n",
    "        tuberculos DECIMAL ,\n",
    "        otros_dc DECIMAL ,\n",
    "        cual_ot_dc VARCHAR ,\n",
    "        hallaz_rad DECIMAL,\n",
    "        uso_antib DECIMAL,\n",
    "        uso_antiv DECIMAL,\n",
    "        fec_antiv VARCHAR,\n",
    "        serv_hosp DECIMAL ,\n",
    "        fec_inguci VARCHAR,\n",
    "        der_ple DECIMAL,\n",
    "        der_per DECIMAL,\n",
    "        miocarditi VARCHAR,\n",
    "        septicemia DECIMAL,\n",
    "        falla_resp DECIMAL,\n",
    "        otros DECIMAL,\n",
    "        pre_car_v1 VARCHAR,\n",
    "        vac_sp DECIMAL,\n",
    "        dos_sp VARCHAR,\n",
    "        fud_sp VARCHAR,\n",
    "        fud_ei VARCHAR,\n",
    "        dol_gar DECIMAL,\n",
    "        rinorrea DECIMAL,\n",
    "        conjuntivi DECIMAL,\n",
    "        cefalea DECIMAL,\n",
    "        diarrea DECIMAL,\n",
    "        rx_torax VARCHAR,\n",
    "        fec_tom_ra VARCHAR,\n",
    "        fec_atib VARCHAR,\n",
    "        otros_cual VARCHAR,\n",
    "        dx_ini VARCHAR,\n",
    "        dx_egr VARCHAR,\n",
    "        semana_ges VARCHAR,\n",
    "        nom_eve VARCHAR,\n",
    "        nom_upgd VARCHAR,\n",
    "        ndep_proce VARCHAR,\n",
    "        nmun_proce VARCHAR,\n",
    "        ndep_resi VARCHAR,\n",
    "        nmun_resi VARCHAR,\n",
    "        ndep_notif VARCHAR,\n",
    "        nmun_notif VARCHAR,\n",
    "        nreg DECIMAL,\n",
    "        \"Dirección\" VARCHAR,\n",
    "        \"Ciudad\" VARCHAR ,\n",
    "        \"Departamento\" VARCHAR ,\n",
    "        \"Dir2\" VARCHAR,\n",
    "        \"Latitud\" DECIMAL,\n",
    "        \"Longitud\" DECIMAL\n",
    ") '''\n",
    "\n",
    "cur.execute(query_full)\n",
    "conn.commit()"
   ]
  },
  {
   "cell_type": "code",
   "execution_count": null,
   "metadata": {},
   "outputs": [],
   "source": [
    "#copy the data from aws s3 into aws rds\n",
    "copy_string = fr\"copy staging_covid_270102020 from 's3://ds4a-bucket-64/df.csv' CSV\"\n",
    "print(copy_string)\n",
    "\n",
    "cur.execute(copy_string)\n",
    "conn.commit()"
   ]
  }
 ],
 "metadata": {
  "kernelspec": {
   "display_name": "Python 3",
   "language": "python",
   "name": "python3"
  },
  "language_info": {
   "codemirror_mode": {
    "name": "ipython",
    "version": 3
   },
   "file_extension": ".py",
   "mimetype": "text/x-python",
   "name": "python",
   "nbconvert_exporter": "python",
   "pygments_lexer": "ipython3",
   "version": "3.7.7"
  }
 },
 "nbformat": 4,
 "nbformat_minor": 4
}
