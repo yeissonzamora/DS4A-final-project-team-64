{
 "cells": [
  {
   "cell_type": "code",
   "execution_count": 2,
   "metadata": {},
   "outputs": [],
   "source": [
    "import pandas as pd\n",
    "import numpy as np\n",
    "import matplotlib.pyplot as plt\n",
    "import seaborn  as sns\n",
    "import pickle\n",
    "from sklearn import preprocessing\n",
    "\n",
    "from imblearn.over_sampling import SMOTE\n",
    "from sklearn.model_selection import train_test_split\n",
    "from sklearn.tree import DecisionTreeClassifier\n",
    "from sklearn.model_selection import cross_val_score, GridSearchCV\n",
    "from sklearn.model_selection import StratifiedKFold\n",
    "from sklearn.metrics import plot_confusion_matrix\n",
    "from sklearn.metrics import classification_report\n",
    "from sklearn.datasets import make_classification\n",
    "\n",
    "# Models\n",
    "import statsmodels.api as sm2\n",
    "from sklearn.linear_model import LogisticRegression\n",
    "from sklearn.naive_bayes import BernoulliNB\n",
    "from sklearn.neighbors import KNeighborsClassifier\n",
    "from sklearn.tree import DecisionTreeClassifier\n",
    "from sklearn.ensemble import RandomForestClassifier\n",
    "from sklearn.ensemble import GradientBoostingClassifier\n",
    "from sklearn.metrics import confusion_matrix, precision_score, accuracy_score\n",
    "from hyperopt import hp, fmin, tpe, Trials, STATUS_OK\n",
    "\n",
    "\n",
    "# Other imports\n",
    "\n",
    "from imblearn.over_sampling import SMOTENC\n"
   ]
  },
  {
   "cell_type": "markdown",
   "metadata": {},
   "source": [
    "# 1. Pre-procesamiento datos"
   ]
  },
  {
   "cell_type": "code",
   "execution_count": 9,
   "metadata": {},
   "outputs": [],
   "source": [
    "def getGroups():\n",
    "    featgroups={\"Paciente\":['edad_','sexo_','uni_med_'],\"Social\":['trab_salud','ocupacion_','estrato']\n",
    "           ,\"Salud\":['tos','fiebre','odinofagia','dif_res','adinamia','vac_ei','dos_ei','asma','epoc','diabetes','vih','enf_card','cancer','desnutricion','obesidad','ins_renal','otr_medinm','fumador','tuberculos','hallaz_rad','der_ple','der_per','miocarditi','septicemia','falla_resp','rinorrea','conjuntivi','cefalea','diarrea']\n",
    "           ,\"Atención\":['NOMBRE EPS','pac_hos_','uso_antib','uso_antiv','tip_ss_','cod_ase_','tip_cas_']\n",
    "           ,\"Grupos\":['gp_discapa','gp_desplaz','gp_migrant','gp_carcela','gp_gestan','sem_ges','gp_indigen','gp_pobicbf','gp_mad_com','gp_desmovi','gp_psiquia','gp_vic_vio','gp_otros']\n",
    "           ,\"Fechas\":['ini_sin_','fec_con_','fec_hos_','fec_def_','fec_antiv','fec_inguci']\n",
    "           ,\"Output\":['Muerto']\n",
    "}\n",
    "    return featgroups\n",
    "\n",
    "def getClaseOcupacion(xs):\n",
    "    dict_clases={0:'FUERZA PÚBLICA'\n",
    "                 ,1: 'MIEMBROS DEL PODER EJECUTIVO, DE LOS CUERPOS LEGISLATIVOS Y PERSONAL DIRECTIVO DE LA ADMINISTRACIÓN PÚBLICA Y DE EMPRESAS'\n",
    "                 ,2:'PROFESIONALES UNIVERSITARIOS, CIENTÍFICOS E INTELECTUALES'\n",
    "                 ,3: 'TÉCNICOS, POSTSECUNDARIOS NO UNIVERSITARIOS Y ASISTENTES'\n",
    "                 ,4: 'EMPLEADOS DE OFICINA'\n",
    "                 ,5: 'TRABAJADORES DE LOS SERVICIOS Y VENDEDORES'\n",
    "                 ,6: 'AGRICULTORES, TRABAJADORES Y OBREROS AGROPECUARIOS, FORESTALES Y PESQUEROS'\n",
    "                 ,7: 'OFICIALES, OPERARIOS, ARTESANOS Y TRABAJADORES DE LA INDUSTRIA MANUFACTURERA, DE LA CONSTRUCCIÓN Y DE LA MINERÍA'\n",
    "                 ,8: 'OPERADORES DE INSTALACIONES, DE MÁQUINAS Y ENSAMBLADORES'\n",
    "                 ,9: 'TRABAJADORES NO CALIFICADOS'}\n",
    "\n",
    "    return dict_clases[xs//1000]\n",
    "\n",
    "def limpiarTodos(data,featgroups,dropColumnsSyC=['vac_ei','dos_ei'],dropSintomasSyC=['der_ple','der_per','falla_resp','septicemia','miocarditi','rinorrea','conjuntivi','cefalea','diarrea'],useAtencion=False,useFechas=False,useGrupos=False,useSocial=False,encode=None,fillEstrato=False,estandarizar=None,scalerFit='None'):\n",
    "    import pickle\n",
    "    from sklearn import preprocessing\n",
    "    SyC=['tos','fiebre','odinofagia','dif_res','adinamia','vac_ei','dos_ei','asma','epoc','diabetes','vih','enf_card','cancer','desnutricion','obesidad','ins_renal','otr_medinm','fumador','tuberculos','hallaz_rad','der_ple','der_per','miocarditi','septicemia','falla_resp','rinorrea','conjuntivi','cefalea','diarrea']\n",
    "    \n",
    "    datos=data.copy()\n",
    "    datos.dos_ei=datos.dos_ei.fillna(2)\n",
    "    datos.vac_ei=datos.vac_ei.fillna(2)\n",
    "    datos.hallaz_rad=datos.hallaz_rad.fillna(4) # Significa que no se aplicó radiografía\n",
    "    \n",
    "    if dropColumnsSyC:\n",
    "        datos=datos.drop(dropColumnsSyC, axis=1)\n",
    "        \n",
    "        for elemento in dropColumnsSyC:\n",
    "            SyC.remove(elemento)\n",
    "        \n",
    "    if dropSintomasSyC:\n",
    "        datos=datos.dropna(subset=dropSintomasSyC)\n",
    "    else:\n",
    "        \n",
    "        datos.der_ple=datos.der_ple.fillna(3) # 3 desconocido\n",
    "        datos.der_per=datos.der_per.fillna(3) # 3 desconocido\n",
    "        datos.miocarditi=datos.miocarditi.fillna(3) # 3 desconocido\n",
    "        datos.septicemia=datos.septicemia.fillna(3) # 3 desconocido\n",
    "        datos.falla_resp=datos.falla_resp.fillna(3) # 3 desconocido\n",
    "        datos.rinorrea=datos.rinorrea.fillna(3)# 3 desconocido\n",
    "        datos.conjuntivi=datos.conjuntivi.fillna(3) # 3 desconocido\n",
    "        datos.cefalea=datos.cefalea.fillna(3) # 3 desconocido\n",
    "        datos.diarrea=datos.diarrea.fillna(3) # 3 desconocido\n",
    "\n",
    "    for columna in SyC:\n",
    "        datos[columna]=datos[columna].astype(int)\n",
    "\n",
    "    if useAtencion==False:\n",
    "        datos=datos.drop(featgroups['Atención'],axis=1)\n",
    "    if useFechas==False:\n",
    "        datos=datos.drop(featgroups['Fechas'],axis=1)\n",
    "    if useGrupos==False:\n",
    "        datos=datos.drop(featgroups['Grupos'],axis=1)\n",
    "    if useSocial==False:\n",
    "        datos=datos.drop(featgroups['Social'],axis=1)\n",
    "    elif fillEstrato:\n",
    "        datos.estrato=datos.estrato.fillna(round(datos.estrato.mean(),0))\n",
    "    \n",
    "    datos.sexo_=datos.sexo_.apply(lambda xs: 1 if xs=='M' else -1)\n",
    "    \n",
    "    def mapEdad(xs):\n",
    "        \n",
    "        if xs[1]==1:\n",
    "            return xs[0]*12*30\n",
    "        elif xs[1]==2:\n",
    "            return xs[0]*30\n",
    "        else:\n",
    "            return xs[0]\n",
    "    \n",
    "    datos['edadDias']=datos[['edad_','uni_med_']].apply(lambda xs:mapEdad(xs),axis=1)\n",
    "    datos=datos.drop(['edad_','uni_med_','unidedad'],axis=1)\n",
    "    \n",
    "        \n",
    "    datos=datos.dropna().reset_index().drop('index',axis=1)\n",
    "    \n",
    "    if not estandarizar is None:\n",
    "        \n",
    "        if scalerFit=='None':\n",
    "            scaler = preprocessing.StandardScaler()\n",
    "            print('Inicializando scaler')\n",
    "        else:\n",
    "            scaler= pickle.load(open( \"scalerEdad.p\", \"rb\" ) )\n",
    "            print('Importando scaler')\n",
    "        \n",
    "        \n",
    "        datos1=datos[[elemento for elemento in datos.columns if not elemento in estandarizar]]\n",
    "        datos2=datos[estandarizar]\n",
    "\n",
    "\n",
    "        \n",
    "        datos1=datos1.reset_index()\n",
    "        try:\n",
    "            datos1=datos1.drop('index',axis=1)\n",
    "        except:\n",
    "            pass\n",
    "\n",
    "        datos2=datos2.reset_index()\n",
    "        try:\n",
    "            datos2=datos2.drop('index',axis=1)\n",
    "        except:\n",
    "            pass\n",
    "\n",
    "        print(datos1.columns)\n",
    "        \n",
    "        if scalerFit=='None':\n",
    "            print('Ajustando y transformando')\n",
    "            datos2=scaler.fit_transform(datos2)\n",
    "            print('scaler -- mean:{}, var: {}'.format(scaler.mean_,scaler.var_))\n",
    "        else:\n",
    "            print('Tranformando')\n",
    "            datos2=scaler.transform(datos2)\n",
    "            print('scaler -- mean:{}, var: {}'.format(scaler.mean_,scaler.var_))\n",
    "        \n",
    "        #Guardar scaler\n",
    "        if scalerFit =='None':\n",
    "            print('Guardando')\n",
    "            pickle.dump( scaler, open( \"scalerEdad.p\", \"wb\" ) )\n",
    "        \n",
    "        datos2=pd.DataFrame(datos2,columns=estandarizar)\n",
    "        datos=pd.concat([datos1,datos2],axis=1)\n",
    "\n",
    "    datos['ocupacion_Cat']=datos['ocupacion_'].apply(lambda xs: getClaseOcupacion(xs))\n",
    "\n",
    "    datos=datos.drop('ocupacion_',axis=1)\n",
    "    datos=datos.drop('con_fin_',axis=1)\n",
    "\n",
    "    return datos\n",
    "\n",
    "def readIRAFile(file,sheet='CORONAVIRUS BUCARAMANGA',filtrarDescesos=True):\n",
    "    \n",
    "    data=pd.read_excel('_IRA POR VIRUS NUEVO BUCA 200102020.xlsx',sheet_name=\"Coronavirus Bucaramanga\")\n",
    "\n",
    "    \n",
    "    \n",
    "    if filtrarDescesos==True:\n",
    "        datosFiltrados=data.copy()\n",
    "        datosFiltrados=datosFiltrados[datosFiltrados.ajuste_==3]\n",
    "        #{3:'In UCI', 5:'Death', 1:'In hospital', 4:'recovered', 2:'At home', 6:'No COVID Death' }\n",
    "\n",
    "        datosFiltrados=datosFiltrados[datosFiltrados.serv_hosp!=3]\n",
    "        datosFiltrados=datosFiltrados[datosFiltrados.serv_hosp!=1]\n",
    "        datosFiltrados=datosFiltrados[datosFiltrados.serv_hosp!=2]\n",
    "        datosFiltrados=datosFiltrados[datosFiltrados.serv_hosp!=6]\n",
    "        datosFiltrados.loc[datosFiltrados.serv_hosp==5,'Muerto']=1\n",
    "        datosFiltrados.loc[datosFiltrados.serv_hosp==4,'Muerto']=0\n",
    "        datosFiltrados=datosFiltrados[['edad_','sexo_','uni_med_','unidedad','trab_salud','ocupacion_','estrato','tos','fiebre','odinofagia','dif_res','adinamia','vac_ei','dos_ei','asma','epoc','diabetes','vih','enf_card','cancer','desnutricion','obesidad','ins_renal','otr_medinm','fumador','tuberculos','hallaz_rad','uso_antiv','der_ple','der_per','miocarditi','septicemia','falla_resp','rinorrea','conjuntivi','cefalea','diarrea','NOMBRE EPS','pac_hos_','uso_antib','tip_ss_','cod_ase_','tip_cas_','gp_discapa','gp_desplaz','gp_migrant','gp_carcela','gp_gestan','sem_ges','gp_indigen','gp_pobicbf','gp_mad_com','gp_desmovi','gp_psiquia','gp_vic_vio','gp_otros','ini_sin_','fec_con_','fec_hos_','fec_def_','fec_antiv','fec_inguci','con_fin_','Muerto']]\n",
    "        \n",
    "        data=datosFiltrados\n",
    "        \n",
    "        return data\n",
    "    \n",
    "def encodeData(datos,fitted=False):\n",
    "    \n",
    "    cats=[\"sexo_\",\"trab_salud\",\"estrato\",\"tos\",\"fiebre\",\"odinofagia\",\"dif_res\"\n",
    "                                          ,\"adinamia\",\"asma\",\"epoc\",\"diabetes\",\"vih\",\"enf_card\",\"cancer\",\"desnutricion\",\n",
    "                                          \"obesidad\",\"ins_renal\",\"otr_medinm\",\"fumador\",\"tuberculos\",\"miocarditi\",\"hallaz_rad\",'der_ple', 'der_per', 'septicemia', 'falla_resp',\n",
    "       'rinorrea', 'conjuntivi', 'cefalea', 'diarrea','ocupacion_Cat']\n",
    "    \n",
    "    from sklearn.preprocessing import OneHotEncoder\n",
    "\n",
    "\n",
    "    splitA=datos[cats]\n",
    "    splitB=datos[[columna for columna in datos.columns if not columna in cats]]\n",
    "\n",
    "    \n",
    "\n",
    "    if fitted==False:\n",
    "        print(\"Ajustando\")\n",
    "        enc=OneHotEncoder(handle_unknown='ignore')\n",
    "        enc.fit(splitA)\n",
    "        pickle.dump( enc, open( \"encoderCats.p\", \"wb\" ) )\n",
    "        \n",
    "        \n",
    "    elif fitted==True:\n",
    "        print(\"Importando\")\n",
    "        enc= pickle.load(open( \"encoderCats.p\", \"rb\" ) )\n",
    "        \n",
    "    else:\n",
    "        raise \"Envíe algo >:v\"\n",
    "        \n",
    "        \n",
    "    print(\"Transformando\")\n",
    "    enc.transform(splitA).toarray().shape\n",
    "\n",
    "    fittedencodedData=pd.DataFrame(enc.transform(splitA).toarray().T,list(enc.get_feature_names())).T \n",
    "\n",
    "    assert fittedencodedData.shape[1]==84, \"El output no es correcto\"\n",
    "    \n",
    "    fittedencodedData=pd.concat([splitB,fittedencodedData],axis=1)\n",
    "    \n",
    "    return fittedencodedData"
   ]
  },
  {
   "cell_type": "markdown",
   "metadata": {},
   "source": [
    "### Data Base"
   ]
  },
  {
   "cell_type": "code",
   "execution_count": 10,
   "metadata": {},
   "outputs": [],
   "source": [
    "### load the database and apply the cleanup functions to select the variables\n",
    "\n",
    "datos=readIRAFile('_IRA POR VIRUS NUEVO BUCA 200102020.xlsx',sheet='Coronavirus Bucaramanga')"
   ]
  },
  {
   "cell_type": "code",
   "execution_count": 11,
   "metadata": {},
   "outputs": [
    {
     "name": "stdout",
     "output_type": "stream",
     "text": [
      "Inicializando scaler\n",
      "Index(['sexo_', 'trab_salud', 'ocupacion_', 'estrato', 'tos', 'fiebre',\n",
      "       'odinofagia', 'dif_res', 'adinamia', 'asma', 'epoc', 'diabetes', 'vih',\n",
      "       'enf_card', 'cancer', 'desnutricion', 'obesidad', 'ins_renal',\n",
      "       'otr_medinm', 'fumador', 'tuberculos', 'hallaz_rad', 'der_ple',\n",
      "       'der_per', 'miocarditi', 'septicemia', 'falla_resp', 'rinorrea',\n",
      "       'conjuntivi', 'cefalea', 'diarrea', 'con_fin_', 'Muerto'],\n",
      "      dtype='object')\n",
      "Ajustando y transformando\n",
      "scaler -- mean:[15386.79901609], var: [47352096.65172394]\n",
      "Guardando\n",
      "Ajustando\n",
      "Transformando\n"
     ]
    }
   ],
   "source": [
    "### Select feature groups\n",
    "\n",
    "featgroups=getGroups()\n",
    "datosB=limpiarTodos(datos,featgroups,useSocial=True,fillEstrato=True,estandarizar=['edadDias'],scalerFit='None')\n",
    "Datos=encodeData(datosB)"
   ]
  },
  {
   "cell_type": "markdown",
   "metadata": {},
   "source": [
    "### Oversample"
   ]
  },
  {
   "cell_type": "code",
   "execution_count": 12,
   "metadata": {},
   "outputs": [],
   "source": [
    "### Smote and Split\n",
    "\n",
    "### Select the X features and y variable\n",
    "\n",
    "X=Datos[[columna for columna in Datos if not columna =='Muerto']]\n",
    "y=Datos[\"Muerto\"]\n",
    "\n"
   ]
  },
  {
   "cell_type": "code",
   "execution_count": 13,
   "metadata": {},
   "outputs": [],
   "source": [
    "### Train and test \n",
    "\n",
    "X_train, X_test, y_train, y_test = train_test_split(X, y, test_size=0.20, random_state=42, stratify=y)\n"
   ]
  },
  {
   "cell_type": "code",
   "execution_count": 14,
   "metadata": {},
   "outputs": [
    {
     "name": "stdout",
     "output_type": "stream",
     "text": [
      "Class=0, Count=7463, Percentage=50.000%\n",
      "Class=1, Count=7463, Percentage=50.000%\n",
      "Class=0, Count=9330, Percentage=95.624%\n",
      "Class=1, Count=427, Percentage=4.376%\n"
     ]
    }
   ],
   "source": [
    "### Apply oversample in train set, use Smote librery\n",
    "\n",
    "\n",
    "oversample = SMOTENC(categorical_features=[0,1],random_state=42)\n",
    "\n",
    "X_train,y_train= oversample.fit_resample(X_train,y_train)\n",
    "\n",
    "\n",
    "### Count data and go to next step\n",
    "\n",
    "from collections import Counter\n",
    "target = y_train\n",
    "counter = Counter(target)\n",
    "\n",
    "for k,v in counter.items():\n",
    "    per = v / len(target) * 100\n",
    "    print('Class=%d, Count=%d, Percentage=%.3f%%' % (k, v, per))\n",
    "from collections import Counter\n",
    "\n",
    "target = y\n",
    "\n",
    "\n",
    "counter = Counter(target)\n",
    "\n",
    "for k,v in counter.items():\n",
    "    per = v / len(target) * 100\n",
    "    print('Class=%d, Count=%d, Percentage=%.3f%%' % (k, v, per))\n"
   ]
  },
  {
   "cell_type": "code",
   "execution_count": null,
   "metadata": {},
   "outputs": [],
   "source": []
  },
  {
   "cell_type": "markdown",
   "metadata": {},
   "source": [
    "# Modelos"
   ]
  },
  {
   "cell_type": "markdown",
   "metadata": {},
   "source": [
    "### Decision Tree"
   ]
  },
  {
   "cell_type": "code",
   "execution_count": 15,
   "metadata": {},
   "outputs": [
    {
     "name": "stdout",
     "output_type": "stream",
     "text": [
      "Fitting 5 folds for each of 4802 candidates, totalling 24010 fits\n"
     ]
    },
    {
     "name": "stderr",
     "output_type": "stream",
     "text": [
      "[Parallel(n_jobs=-1)]: Using backend LokyBackend with 12 concurrent workers.\n",
      "[Parallel(n_jobs=-1)]: Done  26 tasks      | elapsed:    2.6s\n",
      "[Parallel(n_jobs=-1)]: Done 440 tasks      | elapsed:    4.7s\n",
      "[Parallel(n_jobs=-1)]: Done 1440 tasks      | elapsed:   11.1s\n",
      "[Parallel(n_jobs=-1)]: Done 2840 tasks      | elapsed:   22.7s\n",
      "[Parallel(n_jobs=-1)]: Done 4640 tasks      | elapsed:   41.6s\n",
      "[Parallel(n_jobs=-1)]: Done 6516 tasks      | elapsed:  1.1min\n",
      "[Parallel(n_jobs=-1)]: Done 7166 tasks      | elapsed:  1.2min\n",
      "[Parallel(n_jobs=-1)]: Done 7936 tasks      | elapsed:  1.4min\n",
      "[Parallel(n_jobs=-1)]: Done 9636 tasks      | elapsed:  1.8min\n",
      "[Parallel(n_jobs=-1)]: Done 11536 tasks      | elapsed:  2.1min\n",
      "[Parallel(n_jobs=-1)]: Done 13636 tasks      | elapsed:  2.4min\n",
      "[Parallel(n_jobs=-1)]: Done 15936 tasks      | elapsed:  2.8min\n",
      "[Parallel(n_jobs=-1)]: Done 18436 tasks      | elapsed:  3.3min\n",
      "[Parallel(n_jobs=-1)]: Done 21136 tasks      | elapsed:  3.8min\n",
      "[Parallel(n_jobs=-1)]: Done 24010 out of 24010 | elapsed:  4.4min finished\n"
     ]
    },
    {
     "name": "stdout",
     "output_type": "stream",
     "text": [
      "Best: 0.966141 using {'criterion': 'entropy', 'max_depth': 38, 'max_features': 10}\n"
     ]
    }
   ],
   "source": [
    "DT = DecisionTreeClassifier(random_state=42, class_weight=\"balanced\")\n",
    "max_features = range(1,50)\n",
    "criterion = ['gini','entropy']\n",
    "max_depth = range(1,50)\n",
    "\n",
    "\n",
    "grid = dict(max_features=max_features,criterion=criterion,max_depth=max_depth)\n",
    "cv = StratifiedKFold(n_splits=5)\n",
    "grid_search = GridSearchCV(estimator=DT, param_grid=grid, n_jobs=-1, cv=cv, scoring='f1_macro',verbose=1)\n",
    "grid_result = grid_search.fit(X_train, y_train)\n",
    "# summarize results\n",
    "print(\"Best: %f using %s\" % (grid_result.best_score_, grid_result.best_params_))"
   ]
  },
  {
   "cell_type": "code",
   "execution_count": 16,
   "metadata": {},
   "outputs": [
    {
     "name": "stdout",
     "output_type": "stream",
     "text": [
      "Accuracy of DT cross-validation: 0.9661686418248869\n",
      "Cross-validation precision 0.9670297407659099\n",
      "Cross-validation f1 0.9661413809546074\n",
      "Cross-validation  Recall 0.9667752460544202\n",
      "              precision    recall  f1-score   support\n",
      "\n",
      "         0.0       0.97      0.96      0.96      1867\n",
      "         1.0       0.30      0.40      0.34        85\n",
      "\n",
      "    accuracy                           0.93      1952\n",
      "   macro avg       0.64      0.68      0.65      1952\n",
      "weighted avg       0.94      0.93      0.94      1952\n",
      "\n"
     ]
    },
    {
     "data": {
      "image/png": "[encoded data removed]",
      "text/plain": [
       "<Figure size 432x288 with 2 Axes>"
      ]
     },
     "metadata": {
      "needs_background": "light"
     },
     "output_type": "display_data"
    }
   ],
   "source": [
    "BestDT=grid_result.best_estimator_\n",
    "BestDT_pred=BestDT.predict(X_test)\n",
    "plot_confusion_matrix(BestDT, X_test, y_test)\n",
    "print('Accuracy of DT cross-validation:',\n",
    "    cross_val_score(BestDT,X_train, y_train, cv=cv).mean())\n",
    "print('Cross-validation precision', cross_val_score(BestDT, X_train, y_train, cv=cv, scoring = 'precision_macro').mean())\n",
    "print('Cross-validation f1', cross_val_score(BestDT, X_train, y_train, cv=cv, scoring = 'f1_macro').mean())\n",
    "print('Cross-validation  Recall', cross_val_score(BestDT, X_train, y_train, cv=cv, scoring = 'recall').mean())\n",
    "print(classification_report(y_test,BestDT_pred))"
   ]
  },
  {
   "cell_type": "markdown",
   "metadata": {},
   "source": [
    "### Random Forest"
   ]
  },
  {
   "cell_type": "code",
   "execution_count": 22,
   "metadata": {
    "scrolled": false
   },
   "outputs": [
    {
     "name": "stdout",
     "output_type": "stream",
     "text": [
      "Fitting 5 folds for each of 13718 candidates, totalling 68590 fits\n"
     ]
    },
    {
     "name": "stderr",
     "output_type": "stream",
     "text": [
      "[Parallel(n_jobs=-1)]: Using backend LokyBackend with 12 concurrent workers.\n",
      "[Parallel(n_jobs=-1)]: Done  28 tasks      | elapsed:    0.3s\n",
      "[Parallel(n_jobs=-1)]: Done 328 tasks      | elapsed:    3.1s\n",
      "[Parallel(n_jobs=-1)]: Done 828 tasks      | elapsed:    8.5s\n",
      "[Parallel(n_jobs=-1)]: Done 1528 tasks      | elapsed:   17.2s\n",
      "[Parallel(n_jobs=-1)]: Done 2428 tasks      | elapsed:   27.7s\n",
      "[Parallel(n_jobs=-1)]: Done 3528 tasks      | elapsed:   40.5s\n",
      "[Parallel(n_jobs=-1)]: Done 4828 tasks      | elapsed:   55.5s\n",
      "[Parallel(n_jobs=-1)]: Done 6328 tasks      | elapsed:  1.2min\n",
      "[Parallel(n_jobs=-1)]: Done 8028 tasks      | elapsed:  1.6min\n",
      "[Parallel(n_jobs=-1)]: Done 9928 tasks      | elapsed:  2.2min\n",
      "[Parallel(n_jobs=-1)]: Done 12028 tasks      | elapsed:  2.8min\n",
      "[Parallel(n_jobs=-1)]: Done 14328 tasks      | elapsed:  3.6min\n",
      "[Parallel(n_jobs=-1)]: Done 16828 tasks      | elapsed:  4.4min\n",
      "[Parallel(n_jobs=-1)]: Done 19528 tasks      | elapsed:  5.5min\n",
      "[Parallel(n_jobs=-1)]: Done 22026 tasks      | elapsed:  6.6min\n",
      "[Parallel(n_jobs=-1)]: Done 23576 tasks      | elapsed:  7.3min\n",
      "[Parallel(n_jobs=-1)]: Done 25226 tasks      | elapsed:  8.1min\n",
      "[Parallel(n_jobs=-1)]: Done 26976 tasks      | elapsed:  8.9min\n",
      "[Parallel(n_jobs=-1)]: Done 28826 tasks      | elapsed:  9.8min\n",
      "[Parallel(n_jobs=-1)]: Done 30776 tasks      | elapsed: 10.8min\n",
      "[Parallel(n_jobs=-1)]: Done 32826 tasks      | elapsed: 11.8min\n",
      "[Parallel(n_jobs=-1)]: Done 35512 tasks      | elapsed: 12.8min\n",
      "[Parallel(n_jobs=-1)]: Done 40012 tasks      | elapsed: 13.7min\n",
      "[Parallel(n_jobs=-1)]: Done 44712 tasks      | elapsed: 14.9min\n",
      "[Parallel(n_jobs=-1)]: Done 49612 tasks      | elapsed: 16.6min\n",
      "[Parallel(n_jobs=-1)]: Done 54404 tasks      | elapsed: 18.6min\n",
      "[Parallel(n_jobs=-1)]: Done 57054 tasks      | elapsed: 19.8min\n",
      "[Parallel(n_jobs=-1)]: Done 59804 tasks      | elapsed: 21.2min\n",
      "[Parallel(n_jobs=-1)]: Done 62654 tasks      | elapsed: 22.5min\n",
      "[Parallel(n_jobs=-1)]: Done 65604 tasks      | elapsed: 24.0min\n",
      "[Parallel(n_jobs=-1)]: Done 68590 out of 68590 | elapsed: 25.7min finished\n"
     ]
    },
    {
     "name": "stdout",
     "output_type": "stream",
     "text": [
      "Best: 0.977080 using {'criterion': 'entropy', 'max_depth': 19, 'max_features': 11, 'n_estimators': 19}\n"
     ]
    }
   ],
   "source": [
    "# define models and parameters\n",
    "RF= RandomForestClassifier(random_state=42)\n",
    "max_features = range(1,20)\n",
    "max_estimators=range(1,20)\n",
    "criterion = ['gini', 'entropy']\n",
    "max_depth = range(1,20)\n",
    "cv = StratifiedKFold(n_splits=5)\n",
    "grid = dict(max_features=max_features,criterion=criterion,max_depth=max_depth, n_estimators=max_estimators)\n",
    "grid_search = GridSearchCV(estimator=RF, param_grid=grid, n_jobs=-1, cv=cv, verbose=1,scoring=\"f1_macro\")\n",
    "grid_result = grid_search.fit(X_train, y_train)\n",
    "# summarize results\n",
    "print(\"Best: %f using %s\" % (grid_result.best_score_, grid_result.best_params_))"
   ]
  },
  {
   "cell_type": "code",
   "execution_count": 23,
   "metadata": {},
   "outputs": [
    {
     "name": "stdout",
     "output_type": "stream",
     "text": [
      "Accuracy of RF classifier on test set: 0.95\n",
      "Accuracy of RF cross-validation: 0.9770887031720334\n",
      "Cross-validation Precision  0.977566543988041\n",
      "Cross-validation f1 0.9770795586450538\n",
      "Cross-validation  Recall 0.9807089922767375\n",
      "              precision    recall  f1-score   support\n",
      "\n",
      "         0.0       0.98      0.98      0.98      1867\n",
      "         1.0       0.48      0.49      0.49        85\n",
      "\n",
      "    accuracy                           0.95      1952\n",
      "   macro avg       0.73      0.74      0.73      1952\n",
      "weighted avg       0.96      0.95      0.96      1952\n",
      "\n"
     ]
    },
    {
     "data": {
      "image/png": "[encoded data removed]",
      "text/plain": [
       "<Figure size 432x288 with 2 Axes>"
      ]
     },
     "metadata": {
      "needs_background": "light"
     },
     "output_type": "display_data"
    }
   ],
   "source": [
    "BestRF=grid_search.best_estimator_\n",
    "BestRF_pred=BestRF.predict(X_test)\n",
    "plot_confusion_matrix(BestRF, X_test, y_test)\n",
    "print('Accuracy of RF classifier on test set: {:.2f}'\n",
    "     .format(BestRF.score(X_test, y_test)))\n",
    "print('Accuracy of RF cross-validation:',\n",
    "    cross_val_score(BestRF,X_train, y_train, cv=cv).mean())\n",
    "print('Cross-validation Precision ', cross_val_score(BestRF, X_train, y_train, cv=cv, scoring = 'precision_macro').mean())\n",
    "print('Cross-validation f1', cross_val_score(BestRF, X_train, y_train, cv=cv, scoring = 'f1_macro').mean())\n",
    "print('Cross-validation  Recall', cross_val_score(BestRF, X_train, y_train, cv=cv, scoring = 'recall').mean())\n",
    "print(classification_report(y_test,BestRF_pred) )"
   ]
  },
  {
   "cell_type": "markdown",
   "metadata": {},
   "source": [
    "### Gradient Boosting"
   ]
  },
  {
   "cell_type": "code",
   "execution_count": 32,
   "metadata": {},
   "outputs": [
    {
     "name": "stdout",
     "output_type": "stream",
     "text": [
      "100%|██████████| 10/10 [00:53<00:00,  5.36s/trial, best loss: -0.9770760198999913]\n",
      "best:\n",
      "{'learning_rate': 0.04230587639682821, 'max_depth': 19, 'max_features': 9, 'n_estimators': 13}\n"
     ]
    }
   ],
   "source": [
    "cv = StratifiedKFold(n_splits=5)\n",
    "def hyperopt_train_test(params):\n",
    "    clf = GradientBoostingClassifier(**params, random_state=42)\n",
    "    return cross_val_score(clf, X_train, y_train, cv=cv, scoring=\"f1_macro\").mean()\n",
    "space4rf = {\n",
    "    'max_depth': hp.choice('max_depth', range(1,30)),\n",
    "    'max_features': hp.choice('max_features', range(1,50)),\n",
    "    'n_estimators': hp.choice('n_estimators', range(1,25)),\n",
    "    'learning_rate': hp.loguniform('learning_rate', np.log(0.01), np.log(1))}\n",
    "best = 0\n",
    "def f(params):\n",
    "    acc = hyperopt_train_test(params)\n",
    "    return {'loss': -acc, 'status': STATUS_OK}\n",
    "trials = Trials()\n",
    "best = fmin(f, space4rf, algo=tpe.suggest, max_evals=10, trials=trials)\n",
    "print('best:')\n",
    "print(best)"
   ]
  },
  {
   "cell_type": "code",
   "execution_count": 30,
   "metadata": {},
   "outputs": [
    {
     "name": "stdout",
     "output_type": "stream",
     "text": [
      "Accuracy of GB classifier on test set: 0.95\n",
      "Accuracy of GB cross-validation: 0.9790989778093415\n",
      "Cross-validation precission 0.9797811306170914\n",
      "Cross-validation (f1) 0.9790989778093415\n",
      "Cross-validation  Recall 0.9778960439153943\n",
      "              precision    recall  f1-score   support\n",
      "\n",
      "         0.0       0.97      0.98      0.97      1867\n",
      "         1.0       0.43      0.40      0.41        85\n",
      "\n",
      "    accuracy                           0.95      1952\n",
      "   macro avg       0.70      0.69      0.69      1952\n",
      "weighted avg       0.95      0.95      0.95      1952\n",
      "\n"
     ]
    },
    {
     "data": {
      "image/png": "[encoded data removed]",
      "text/plain": [
       "<Figure size 432x288 with 2 Axes>"
      ]
     },
     "metadata": {
      "needs_background": "light"
     },
     "output_type": "display_data"
    }
   ],
   "source": [
    "### In this part use the Hyper search and put manual the selection\n",
    "\n",
    "GB = GradientBoostingClassifier(n_estimators=13, learning_rate=0.19, max_features=4, max_depth=28, random_state=42)\n",
    "GB.fit(X_train, y_train)\n",
    "GB_pred=GB.predict(X_test)\n",
    "plot_confusion_matrix(GB, X_test, y_test)\n",
    "print('Accuracy of GB classifier on test set: {:.2f}'\n",
    "     .format(GB.score(X_test, y_test)))\n",
    "print('Accuracy of GB cross-validation:',\n",
    "    cross_val_score(GB,X_train, y_train, cv=cv).mean())\n",
    "print('Cross-validation precission', cross_val_score(GB, X_train, y_train, cv=5, scoring = 'precision_macro').mean())\n",
    "print('Cross-validation (f1)', cross_val_score(GB, X_train, y_train, cv=5, scoring = 'f1_micro').mean())\n",
    "print('Cross-validation  Recall', cross_val_score(GB, X_train, y_train, cv=cv, scoring = 'recall').mean())\n",
    "print(classification_report(y_test,GB_pred))"
   ]
  },
  {
   "cell_type": "markdown",
   "metadata": {},
   "source": [
    "### VOTING"
   ]
  },
  {
   "cell_type": "code",
   "execution_count": 34,
   "metadata": {},
   "outputs": [
    {
     "name": "stdout",
     "output_type": "stream",
     "text": [
      "Accuracy: 0.97 (+/- 0.02) [Decision Tree]\n",
      "Accuracy: 0.98 (+/- 0.01) [Random Forest]\n",
      "Accuracy: 0.98 (+/- 0.02) [Gradient Boosting]\n",
      "Accuracy: 0.98 (+/- 0.02) [Ensemble]\n"
     ]
    }
   ],
   "source": [
    "### Use VotingClassifier for improve the results of Forests\n",
    "\n",
    "from sklearn.ensemble import VotingClassifier\n",
    "eclf = VotingClassifier(estimators=[('GB', GB),(\"RF\",BestRF),(\"DT\",BestDT)],voting='soft')\n",
    "for clf, label in zip([BestDT,BestRF,GB,eclf], ['Decision Tree',\"Random Forest\",\"Gradient Boosting\",'Ensemble']):\n",
    "    scores = cross_val_score(clf, X_train, y_train, scoring='f1_macro', cv=cv)\n",
    "    print(\"Accuracy: %0.2f (+/- %0.2f) [%s]\" % (scores.mean(), scores.std(), label))"
   ]
  },
  {
   "cell_type": "code",
   "execution_count": 35,
   "metadata": {},
   "outputs": [
    {
     "name": "stdout",
     "output_type": "stream",
     "text": [
      "              precision    recall  f1-score   support\n",
      "\n",
      "         0.0       0.97      0.97      0.97      1867\n",
      "         1.0       0.39      0.39      0.39        85\n",
      "\n",
      "    accuracy                           0.95      1952\n",
      "   macro avg       0.68      0.68      0.68      1952\n",
      "weighted avg       0.95      0.95      0.95      1952\n",
      "\n",
      "Accuracy of ECLF classifier on test set: 0.95\n",
      "Accuracy of ECLF cross-validation: 0.9762851767208446\n",
      "Cross-validation Precission 0.9770878361407934\n",
      "Cross-validation  f1 0.9762646236617266\n",
      "Cross-validation  Recall 0.9768242863479077\n"
     ]
    },
    {
     "data": {
      "image/png": "[encoded data removed]",
      "text/plain": [
       "<Figure size 432x288 with 2 Axes>"
      ]
     },
     "metadata": {
      "needs_background": "light"
     },
     "output_type": "display_data"
    }
   ],
   "source": [
    "eclf.fit(X_train,y_train)\n",
    "eclf_pred=eclf.predict(X_test)\n",
    "plot_confusion_matrix(eclf, X_test, y_test)\n",
    "class_report=classification_report(y_test,eclf_pred)\n",
    "print(class_report)\n",
    "print('Accuracy of ECLF classifier on test set: {:.2f}'\n",
    "     .format(eclf.score(X_test, y_test)))\n",
    "print('Accuracy of ECLF cross-validation:',\n",
    "    cross_val_score(eclf,X_train, y_train, cv=cv).mean())\n",
    "print('Cross-validation Precission', cross_val_score(eclf, X_train, y_train, cv=cv, scoring = 'precision_macro').mean())\n",
    "print('Cross-validation  f1', cross_val_score(eclf, X_train, y_train, cv=cv, scoring = 'f1_macro').mean())\n",
    "print('Cross-validation  Recall', cross_val_score(eclf, X_train, y_train, cv=cv, scoring = 'recall').mean())"
   ]
  },
  {
   "cell_type": "markdown",
   "metadata": {},
   "source": [
    "### KNN"
   ]
  },
  {
   "cell_type": "code",
   "execution_count": 32,
   "metadata": {},
   "outputs": [
    {
     "name": "stdout",
     "output_type": "stream",
     "text": [
      "Best: 0.973468 using {'n_neighbors': 1, 'p': 1}\n",
      "\n",
      "[0.96617518 0.97889287 0.9809041  0.96817215 0.97319521]\n",
      "\n",
      "0.9734679020650072\n",
      "\n",
      "0.005762474622745834\n"
     ]
    }
   ],
   "source": [
    "n_neighbors = list(range(1,30))\n",
    "p=[1,2]\n",
    "cv = StratifiedKFold(n_splits=5)\n",
    "#Convert to dictionary\n",
    "hyperparameters = dict(n_neighbors=n_neighbors, p=p)\n",
    "#Create new KNN object\n",
    "knn = KNeighborsClassifier()\n",
    "#Use GridSearch\n",
    "knn_search = GridSearchCV(knn, hyperparameters, cv=cv, scoring=\"f1_macro\")\n",
    "knn_result= knn_search.fit(X_train,y_train)\n",
    "# summarize results\n",
    "print(\"Best: %f using %s\" % (knn_result.best_score_, knn_result.best_params_))\n",
    "CV_Result = cross_val_score(knn_result, X_train, y_train, cv=cv, scoring=\"f1_macro\")\n",
    "print(); print(CV_Result)\n",
    "print(); print(CV_Result.mean())\n",
    "print(); print(CV_Result.std())"
   ]
  },
  {
   "cell_type": "code",
   "execution_count": 37,
   "metadata": {},
   "outputs": [
    {
     "name": "stdout",
     "output_type": "stream",
     "text": [
      "<bound method BaseEstimator.get_params of KNeighborsClassifier(n_neighbors=1, p=1)>\n",
      "Accuracy of KNN classifier on test set: 0.94\n",
      "Accuracy of KNN cross-validation: 0.9734696029825395\n",
      "Cross-validation Precission 0.9735917028507052\n",
      "Cross-validation  f1 0.9734679020650072\n",
      "Cross-validation  Recall 0.9808404367836319\n",
      "              precision    recall  f1-score   support\n",
      "\n",
      "         0.0       0.97      0.97      0.97      1867\n",
      "         1.0       0.37      0.45      0.40        85\n",
      "\n",
      "    accuracy                           0.94      1952\n",
      "   macro avg       0.67      0.71      0.69      1952\n",
      "weighted avg       0.95      0.94      0.95      1952\n",
      "\n"
     ]
    },
    {
     "data": {
      "image/png": "[encoded data removed]",
      "text/plain": [
       "<Figure size 432x288 with 2 Axes>"
      ]
     },
     "metadata": {
      "needs_background": "light"
     },
     "output_type": "display_data"
    }
   ],
   "source": [
    "BestKnn=knn_search.best_estimator_\n",
    "print(BestKnn.get_params)\n",
    "BestKnn_pred=BestKnn.predict(X_test)\n",
    "plot_confusion_matrix(BestKnn, X_test, y_test)\n",
    "class_report=classification_report(y_test,BestKnn_pred)\n",
    "\n",
    "\n",
    "print('Accuracy of KNN classifier on test set: {:.2f}'\n",
    "     .format(BestKnn.score(X_test, y_test)))\n",
    "print('Accuracy of KNN cross-validation:',\n",
    "    cross_val_score(BestKnn,X_train, y_train, cv=cv).mean())\n",
    "print('Cross-validation Precission', cross_val_score(BestKnn, X_train, y_train, cv=cv, scoring = 'precision_macro').mean())\n",
    "print('Cross-validation  f1', cross_val_score(BestKnn, X_train, y_train, cv=cv, scoring = 'f1_macro').mean())\n",
    "print('Cross-validation  Recall', cross_val_score(BestKnn, X_train, y_train, cv=cv, scoring = 'recall').mean())\n",
    "print(class_report)"
   ]
  },
  {
   "cell_type": "markdown",
   "metadata": {},
   "source": [
    "### LOGISTIC"
   ]
  },
  {
   "cell_type": "code",
   "execution_count": 73,
   "metadata": {},
   "outputs": [
    {
     "name": "stdout",
     "output_type": "stream",
     "text": [
      "Best: 0.906395 using {'C': 10, 'penalty': 'l2', 'solver': 'newton-cg'}\n",
      "0.906327 (0.005029) with: {'C': 100, 'penalty': 'l2', 'solver': 'newton-cg'}\n",
      "0.906260 (0.005139) with: {'C': 100, 'penalty': 'l2', 'solver': 'lbfgs'}\n",
      "nan (nan) with: {'C': 100, 'penalty': 'l2', 'solver': 'liblinear'}\n",
      "0.906395 (0.005015) with: {'C': 10, 'penalty': 'l2', 'solver': 'newton-cg'}\n",
      "0.906395 (0.005015) with: {'C': 10, 'penalty': 'l2', 'solver': 'lbfgs'}\n",
      "nan (nan) with: {'C': 10, 'penalty': 'l2', 'solver': 'liblinear'}\n",
      "0.906193 (0.005413) with: {'C': 1.0, 'penalty': 'l2', 'solver': 'newton-cg'}\n",
      "0.906193 (0.005413) with: {'C': 1.0, 'penalty': 'l2', 'solver': 'lbfgs'}\n",
      "nan (nan) with: {'C': 1.0, 'penalty': 'l2', 'solver': 'liblinear'}\n",
      "0.905857 (0.005770) with: {'C': 0.1, 'penalty': 'l2', 'solver': 'newton-cg'}\n",
      "0.905857 (0.005770) with: {'C': 0.1, 'penalty': 'l2', 'solver': 'lbfgs'}\n",
      "nan (nan) with: {'C': 0.1, 'penalty': 'l2', 'solver': 'liblinear'}\n",
      "0.904983 (0.006031) with: {'C': 0.01, 'penalty': 'l2', 'solver': 'newton-cg'}\n",
      "0.904983 (0.006031) with: {'C': 0.01, 'penalty': 'l2', 'solver': 'lbfgs'}\n",
      "nan (nan) with: {'C': 0.01, 'penalty': 'l2', 'solver': 'liblinear'}\n"
     ]
    }
   ],
   "source": [
    "# Gid searching key hyperparametres for logistic regression\n",
    "from sklearn.datasets import make_blobs\n",
    "from sklearn.model_selection import RepeatedStratifiedKFold\n",
    "from sklearn.model_selection import GridSearchCV\n",
    "from sklearn.linear_model import LogisticRegression\n",
    "cv = StratifiedKFold(n_splits=5)\n",
    "# define models and parameters\n",
    "log = LogisticRegression(multi_class=\"multinomial\", max_iter=1000, random_state=42)\n",
    "solvers = ['newton-cg', 'lbfgs', 'liblinear']\n",
    "penalty = ['l2']\n",
    "c_values = [100, 10, 1.0, 0.1, 0.01]\n",
    "# define grid search\n",
    "grid = dict(solver=solvers,penalty=penalty,C=c_values)\n",
    "log_search = GridSearchCV(estimator=log, param_grid=grid, n_jobs=-1, cv=cv, scoring='f1_macro')\n",
    "log_result = log_search.fit(X_train, y_train)\n",
    "# summarize results\n",
    "print(\"Best: %f using %s\" % (log_result.best_score_, log_result.best_params_))\n",
    "means = log_result.cv_results_['mean_test_score']\n",
    "stds = log_result.cv_results_['std_test_score']\n",
    "params = log_result.cv_results_['params']\n",
    "for mean, stdev, param in zip(means, stds, params):\n",
    "    print(\"%f (%f) with: %r\" % (mean, stdev, param))"
   ]
  },
  {
   "cell_type": "code",
   "execution_count": 74,
   "metadata": {},
   "outputs": [
    {
     "name": "stdout",
     "output_type": "stream",
     "text": [
      "              precision    recall  f1-score   support\n",
      "\n",
      "         0.0       1.00      0.88      0.94      1867\n",
      "         1.0       0.26      0.91      0.41        85\n",
      "\n",
      "    accuracy                           0.88      1952\n",
      "   macro avg       0.63      0.89      0.67      1952\n",
      "weighted avg       0.96      0.88      0.91      1952\n",
      "\n",
      "Accuracy of Log classifier on test set: 0.67\n",
      "Accuracy of Log cross-validation: 0.9059250297088521\n",
      "Cross-validation Precission 0.9061291912221264\n",
      "Cross-validation F1 0.9059250297088521\n",
      "Cross-validation  Recall 0.9162535981138074\n"
     ]
    },
    {
     "data": {
      "image/png": "[encoded data removed]",
      "text/plain": [
       "<Figure size 432x288 with 2 Axes>"
      ]
     },
     "metadata": {
      "needs_background": "light"
     },
     "output_type": "display_data"
    }
   ],
   "source": [
    "log_pred=log_result.predict(X_test)\n",
    "plot_confusion_matrix(log_result, X_test, y_test)\n",
    "class_report=classification_report(y_test,log_pred)\n",
    "cv = StratifiedKFold(n_splits=5)\n",
    "print(class_report)\n",
    "print('Accuracy of Log classifier on test set: {:.2f}'\n",
    "     .format(log_result.score(X_test, y_test)))\n",
    "print('Accuracy of Log cross-validation:',\n",
    "    cross_val_score(log_result,X_train, y_train, cv=cv).mean())\n",
    "print('Cross-validation Precission', cross_val_score(log_result, X_train, y_train, cv=cv, scoring = 'precision_macro').mean())\n",
    "print('Cross-validation F1', cross_val_score(log_result, X_train, y_train, cv=cv, scoring = 'f1_macro').mean())\n",
    "print('Cross-validation  Recall', cross_val_score(log_result, X_train, y_train, cv=cv, scoring = 'recall').mean())"
   ]
  },
  {
   "cell_type": "code",
   "execution_count": 92,
   "metadata": {},
   "outputs": [],
   "source": [
    "### Coeficientes:\n",
    "# Best: 0.906395 using {'C': 10, 'penalty': 'l2', 'solver': 'newton-cg'}\n",
    "log_model= LogisticRegression(penalty=\"l2\",C=10, solver=\"newton-cg\", random_state=42)\n",
    "log_model=log_model.fit(X_train, y_train)\n"
   ]
  },
  {
   "cell_type": "code",
   "execution_count": 94,
   "metadata": {},
   "outputs": [
    {
     "data": {
      "text/plain": [
       "array([[ 1.75624875e+00, -8.54717277e-01, -2.40421626e-03,\n",
       "        -3.86944494e-01,  3.86767013e-01,  1.02897037e-01,\n",
       "         2.07082163e-01,  9.19799818e-01,  3.18478212e-01,\n",
       "        -4.65166448e-01, -1.08326826e+00,  3.39586835e-01,\n",
       "        -3.39764316e-01,  2.10308749e-01, -2.10486230e-01,\n",
       "        -4.55885129e-01,  4.55707648e-01,  9.56150410e-01,\n",
       "        -9.56327891e-01,  2.31556889e-01, -2.31734371e-01,\n",
       "         9.31679457e-02, -9.33454270e-02, -8.91879606e-02,\n",
       "         8.90104793e-02,  6.56202019e-01, -6.56379500e-01,\n",
       "        -9.03123541e-03,  8.85375408e-03,  1.04167555e-01,\n",
       "        -1.04345036e-01,  3.36325462e-02, -3.38100276e-02,\n",
       "         8.95372406e-01, -8.95549888e-01,  4.70998255e-01,\n",
       "        -4.71175736e-01,  5.89742933e-02, -5.91517746e-02,\n",
       "        -2.24751918e-01,  2.24574436e-01, -8.84979919e-02,\n",
       "         8.83205106e-02, -2.94280401e+00,  2.94262653e+00,\n",
       "        -3.62984838e-01,  3.62807357e-01, -3.62984838e-01,\n",
       "         8.31710057e-01, -2.35412596e-01,  6.19824284e-02,\n",
       "        -2.95472533e-01, -3.62984838e-01,  2.13225278e+00,\n",
       "        -1.76944543e+00, -3.62984838e-01, -8.55181014e-02,\n",
       "         4.48325458e-01, -3.62984838e-01,  1.09971134e+00,\n",
       "        -7.36903983e-01, -3.62984838e-01,  1.72463534e+00,\n",
       "        -1.36182798e+00, -3.62984838e-01, -1.05352487e-01,\n",
       "         4.68159843e-01, -3.62984838e-01,  9.04753912e-01,\n",
       "        -5.41946555e-01, -3.62984838e-01, -6.12964537e-02,\n",
       "         4.24103810e-01, -3.62984838e-01,  3.44735221e-01,\n",
       "         1.80721363e-02,  1.13773540e+00, -7.20158567e-01,\n",
       "        -3.27266377e+00,  3.72031582e-01,  2.38629444e-03,\n",
       "         8.67976465e-01, -8.90749319e-03,  1.27494252e+00,\n",
       "         3.46480101e-01]])"
      ]
     },
     "execution_count": 94,
     "metadata": {},
     "output_type": "execute_result"
    },
    {
     "data": {
      "image/png": "[encoded data removed]",
      "text/plain": [
       "<Figure size 432x288 with 2 Axes>"
      ]
     },
     "metadata": {
      "needs_background": "light"
     },
     "output_type": "display_data"
    }
   ],
   "source": [
    "### Print Betas for logistic model\n",
    "\n",
    "plot_confusion_matrix(log_model, X_test, y_test)\n",
    "log_model.coef_"
   ]
  },
  {
   "cell_type": "code",
   "execution_count": 98,
   "metadata": {},
   "outputs": [
    {
     "name": "stdout",
     "output_type": "stream",
     "text": [
      "Feature: 0, Score: 1.75625\n",
      "Feature: 1, Score: -0.85472\n",
      "Feature: 2, Score: -0.00240\n",
      "Feature: 3, Score: -0.38694\n",
      "Feature: 4, Score: 0.38677\n",
      "Feature: 5, Score: 0.10290\n",
      "Feature: 6, Score: 0.20708\n",
      "Feature: 7, Score: 0.91980\n",
      "Feature: 8, Score: 0.31848\n",
      "Feature: 9, Score: -0.46517\n",
      "Feature: 10, Score: -1.08327\n",
      "Feature: 11, Score: 0.33959\n",
      "Feature: 12, Score: -0.33976\n",
      "Feature: 13, Score: 0.21031\n",
      "Feature: 14, Score: -0.21049\n",
      "Feature: 15, Score: -0.45589\n",
      "Feature: 16, Score: 0.45571\n",
      "Feature: 17, Score: 0.95615\n",
      "Feature: 18, Score: -0.95633\n",
      "Feature: 19, Score: 0.23156\n",
      "Feature: 20, Score: -0.23173\n",
      "Feature: 21, Score: 0.09317\n",
      "Feature: 22, Score: -0.09335\n",
      "Feature: 23, Score: -0.08919\n",
      "Feature: 24, Score: 0.08901\n",
      "Feature: 25, Score: 0.65620\n",
      "Feature: 26, Score: -0.65638\n",
      "Feature: 27, Score: -0.00903\n",
      "Feature: 28, Score: 0.00885\n",
      "Feature: 29, Score: 0.10417\n",
      "Feature: 30, Score: -0.10435\n",
      "Feature: 31, Score: 0.03363\n",
      "Feature: 32, Score: -0.03381\n",
      "Feature: 33, Score: 0.89537\n",
      "Feature: 34, Score: -0.89555\n",
      "Feature: 35, Score: 0.47100\n",
      "Feature: 36, Score: -0.47118\n",
      "Feature: 37, Score: 0.05897\n",
      "Feature: 38, Score: -0.05915\n",
      "Feature: 39, Score: -0.22475\n",
      "Feature: 40, Score: 0.22457\n",
      "Feature: 41, Score: -0.08850\n",
      "Feature: 42, Score: 0.08832\n",
      "Feature: 43, Score: -2.94280\n",
      "Feature: 44, Score: 2.94263\n",
      "Feature: 45, Score: -0.36298\n",
      "Feature: 46, Score: 0.36281\n",
      "Feature: 47, Score: -0.36298\n",
      "Feature: 48, Score: 0.83171\n",
      "Feature: 49, Score: -0.23541\n",
      "Feature: 50, Score: 0.06198\n",
      "Feature: 51, Score: -0.29547\n",
      "Feature: 52, Score: -0.36298\n",
      "Feature: 53, Score: 2.13225\n",
      "Feature: 54, Score: -1.76945\n",
      "Feature: 55, Score: -0.36298\n",
      "Feature: 56, Score: -0.08552\n",
      "Feature: 57, Score: 0.44833\n",
      "Feature: 58, Score: -0.36298\n",
      "Feature: 59, Score: 1.09971\n",
      "Feature: 60, Score: -0.73690\n",
      "Feature: 61, Score: -0.36298\n",
      "Feature: 62, Score: 1.72464\n",
      "Feature: 63, Score: -1.36183\n",
      "Feature: 64, Score: -0.36298\n",
      "Feature: 65, Score: -0.10535\n",
      "Feature: 66, Score: 0.46816\n",
      "Feature: 67, Score: -0.36298\n",
      "Feature: 68, Score: 0.90475\n",
      "Feature: 69, Score: -0.54195\n",
      "Feature: 70, Score: -0.36298\n",
      "Feature: 71, Score: -0.06130\n",
      "Feature: 72, Score: 0.42410\n",
      "Feature: 73, Score: -0.36298\n",
      "Feature: 74, Score: 0.34474\n",
      "Feature: 75, Score: 0.01807\n",
      "Feature: 76, Score: 1.13774\n",
      "Feature: 77, Score: -0.72016\n",
      "Feature: 78, Score: -3.27266\n",
      "Feature: 79, Score: 0.37203\n",
      "Feature: 80, Score: 0.00239\n",
      "Feature: 81, Score: 0.86798\n",
      "Feature: 82, Score: -0.00891\n",
      "Feature: 83, Score: 1.27494\n",
      "Feature: 84, Score: 0.34648\n"
     ]
    },
    {
     "data": {
      "image/png": "[encoded data removed]",
      "text/plain": [
       "<Figure size 432x288 with 1 Axes>"
      ]
     },
     "metadata": {
      "needs_background": "light"
     },
     "output_type": "display_data"
    }
   ],
   "source": [
    "importance = log_model.coef_[0]\n",
    "# summarize feature importance\n",
    "for i,v in zip(importance):\n",
    "    print('Feature: %0d, Score: %.5f' % (i,v))\n",
    "# plot feature importance\n",
    "plt.bar([x for x in range(len(importance))], importance)\n",
    "plt.show()"
   ]
  },
  {
   "cell_type": "markdown",
   "metadata": {},
   "source": [
    "### Create DataFrame\n",
    "\n",
    "Create a df with probabilities for predict in test set"
   ]
  },
  {
   "cell_type": "code",
   "execution_count": 61,
   "metadata": {},
   "outputs": [
    {
     "data": {
      "text/html": [
       "<div>\n",
       "<style scoped>\n",
       "    .dataframe tbody tr th:only-of-type {\n",
       "        vertical-align: middle;\n",
       "    }\n",
       "\n",
       "    .dataframe tbody tr th {\n",
       "        vertical-align: top;\n",
       "    }\n",
       "\n",
       "    .dataframe thead th {\n",
       "        text-align: right;\n",
       "    }\n",
       "</style>\n",
       "<table border=\"1\" class=\"dataframe\">\n",
       "  <thead>\n",
       "    <tr style=\"text-align: right;\">\n",
       "      <th></th>\n",
       "      <th>probaVivir</th>\n",
       "      <th>probaMorir</th>\n",
       "      <th>class</th>\n",
       "    </tr>\n",
       "  </thead>\n",
       "  <tbody>\n",
       "    <tr>\n",
       "      <th>0</th>\n",
       "      <td>0.115255</td>\n",
       "      <td>0.884745</td>\n",
       "      <td>1.0</td>\n",
       "    </tr>\n",
       "    <tr>\n",
       "      <th>1</th>\n",
       "      <td>0.985075</td>\n",
       "      <td>0.014925</td>\n",
       "      <td>0.0</td>\n",
       "    </tr>\n",
       "    <tr>\n",
       "      <th>2</th>\n",
       "      <td>0.981074</td>\n",
       "      <td>0.018926</td>\n",
       "      <td>0.0</td>\n",
       "    </tr>\n",
       "    <tr>\n",
       "      <th>3</th>\n",
       "      <td>0.998803</td>\n",
       "      <td>0.001197</td>\n",
       "      <td>0.0</td>\n",
       "    </tr>\n",
       "    <tr>\n",
       "      <th>4</th>\n",
       "      <td>0.272271</td>\n",
       "      <td>0.727729</td>\n",
       "      <td>1.0</td>\n",
       "    </tr>\n",
       "    <tr>\n",
       "      <th>...</th>\n",
       "      <td>...</td>\n",
       "      <td>...</td>\n",
       "      <td>...</td>\n",
       "    </tr>\n",
       "    <tr>\n",
       "      <th>1947</th>\n",
       "      <td>0.880155</td>\n",
       "      <td>0.119845</td>\n",
       "      <td>0.0</td>\n",
       "    </tr>\n",
       "    <tr>\n",
       "      <th>1948</th>\n",
       "      <td>0.994493</td>\n",
       "      <td>0.005507</td>\n",
       "      <td>0.0</td>\n",
       "    </tr>\n",
       "    <tr>\n",
       "      <th>1949</th>\n",
       "      <td>0.393176</td>\n",
       "      <td>0.606824</td>\n",
       "      <td>1.0</td>\n",
       "    </tr>\n",
       "    <tr>\n",
       "      <th>1950</th>\n",
       "      <td>0.963741</td>\n",
       "      <td>0.036259</td>\n",
       "      <td>0.0</td>\n",
       "    </tr>\n",
       "    <tr>\n",
       "      <th>1951</th>\n",
       "      <td>0.921252</td>\n",
       "      <td>0.078748</td>\n",
       "      <td>0.0</td>\n",
       "    </tr>\n",
       "  </tbody>\n",
       "</table>\n",
       "<p>1952 rows × 3 columns</p>\n",
       "</div>"
      ],
      "text/plain": [
       "      probaVivir  probaMorir  class\n",
       "0       0.115255    0.884745    1.0\n",
       "1       0.985075    0.014925    0.0\n",
       "2       0.981074    0.018926    0.0\n",
       "3       0.998803    0.001197    0.0\n",
       "4       0.272271    0.727729    1.0\n",
       "...          ...         ...    ...\n",
       "1947    0.880155    0.119845    0.0\n",
       "1948    0.994493    0.005507    0.0\n",
       "1949    0.393176    0.606824    1.0\n",
       "1950    0.963741    0.036259    0.0\n",
       "1951    0.921252    0.078748    0.0\n",
       "\n",
       "[1952 rows x 3 columns]"
      ]
     },
     "execution_count": 61,
     "metadata": {},
     "output_type": "execute_result"
    }
   ],
   "source": [
    "df=pd.DataFrame(log_result.predict_proba(X_test),columns=['probaVivir','probaMorir'])\n",
    "df['class']=log_result.predict(X_test)\n",
    "df"
   ]
  },
  {
   "cell_type": "code",
   "execution_count": 63,
   "metadata": {},
   "outputs": [],
   "source": [
    "df['trueclass']=y_test.reset_index().drop('index',axis=1)"
   ]
  },
  {
   "cell_type": "code",
   "execution_count": 1,
   "metadata": {},
   "outputs": [
    {
     "ename": "NameError",
     "evalue": "name 'df' is not defined",
     "output_type": "error",
     "traceback": [
      "\u001b[1;31m---------------------------------------------------------------------------\u001b[0m",
      "\u001b[1;31mNameError\u001b[0m                                 Traceback (most recent call last)",
      "\u001b[1;32m<ipython-input-1-53bfc832e402>\u001b[0m in \u001b[0;36m<module>\u001b[1;34m\u001b[0m\n\u001b[0;32m      1\u001b[0m \u001b[1;31m### Add the True Positive and False Positive\u001b[0m\u001b[1;33m\u001b[0m\u001b[1;33m\u001b[0m\u001b[1;33m\u001b[0m\u001b[0m\n\u001b[0;32m      2\u001b[0m \u001b[1;33m\u001b[0m\u001b[0m\n\u001b[1;32m----> 3\u001b[1;33m \u001b[0mmalclasificados\u001b[0m\u001b[1;33m=\u001b[0m\u001b[0mdf\u001b[0m\u001b[1;33m[\u001b[0m\u001b[0mdf\u001b[0m\u001b[1;33m[\u001b[0m\u001b[1;34m'class'\u001b[0m\u001b[1;33m]\u001b[0m\u001b[1;33m!=\u001b[0m\u001b[0mdf\u001b[0m\u001b[1;33m[\u001b[0m\u001b[1;34m'trueclass'\u001b[0m\u001b[1;33m]\u001b[0m\u001b[1;33m]\u001b[0m\u001b[1;33m\u001b[0m\u001b[1;33m\u001b[0m\u001b[0m\n\u001b[0m\u001b[0;32m      4\u001b[0m \u001b[0mbienclasificados\u001b[0m\u001b[1;33m=\u001b[0m\u001b[0mdf\u001b[0m\u001b[1;33m[\u001b[0m\u001b[0mdf\u001b[0m\u001b[1;33m[\u001b[0m\u001b[1;34m'class'\u001b[0m\u001b[1;33m]\u001b[0m\u001b[1;33m==\u001b[0m\u001b[0mdf\u001b[0m\u001b[1;33m[\u001b[0m\u001b[1;34m'trueclass'\u001b[0m\u001b[1;33m]\u001b[0m\u001b[1;33m]\u001b[0m\u001b[1;33m\u001b[0m\u001b[1;33m\u001b[0m\u001b[0m\n",
      "\u001b[1;31mNameError\u001b[0m: name 'df' is not defined"
     ]
    }
   ],
   "source": [
    "### Add the True Positive and False Positive\n",
    "\n",
    "malclasificados=df[df['class']!=df['trueclass']]\n",
    "bienclasificados=df[df['class']==df['trueclass']]"
   ]
  },
  {
   "cell_type": "code",
   "execution_count": 69,
   "metadata": {},
   "outputs": [
    {
     "data": {
      "text/plain": [
       "<matplotlib.axes._subplots.AxesSubplot at 0x1856c8561c8>"
      ]
     },
     "execution_count": 69,
     "metadata": {},
     "output_type": "execute_result"
    },
    {
     "data": {
      "image/png": "[encoded data removed]",
      "text/plain": [
       "<Figure size 432x288 with 1 Axes>"
      ]
     },
     "metadata": {
      "needs_background": "light"
     },
     "output_type": "display_data"
    }
   ],
   "source": [
    "# bienclasificados[bienclasificados['class']==1].probaVivir.hist(color='red')\n",
    "bienclasificados[bienclasificados['class']==1].probaMorir.hist(color='blue')\n",
    "# malclasificados[malclasificados['class']==1].probaMorir.hist(color='red')"
   ]
  },
  {
   "cell_type": "code",
   "execution_count": 70,
   "metadata": {},
   "outputs": [
    {
     "data": {
      "text/plain": [
       "<matplotlib.axes._subplots.AxesSubplot at 0x1856da7efc8>"
      ]
     },
     "execution_count": 70,
     "metadata": {},
     "output_type": "execute_result"
    },
    {
     "data": {
      "image/png": "[encoded data removed]",
      "text/plain": [
       "<Figure size 432x288 with 1 Axes>"
      ]
     },
     "metadata": {
      "needs_background": "light"
     },
     "output_type": "display_data"
    }
   ],
   "source": [
    "malclasificados[malclasificados['class']==1].probaMorir.hist(color='red')"
   ]
  },
  {
   "cell_type": "markdown",
   "metadata": {},
   "source": [
    "### Compare with the Best Model for f1 score (Random Forest)"
   ]
  },
  {
   "cell_type": "code",
   "execution_count": 24,
   "metadata": {},
   "outputs": [],
   "source": [
    "df2=pd.DataFrame(BestRF.predict_proba(X_test),columns=['probaVivir','probaMorir'])\n",
    "df2['class']=BestRF.predict(X_test)\n",
    "\n",
    "df2['trueclass']=y_test.reset_index().drop('index',axis=1)"
   ]
  },
  {
   "cell_type": "code",
   "execution_count": 27,
   "metadata": {},
   "outputs": [
    {
     "data": {
      "text/plain": [
       "<matplotlib.axes._subplots.AxesSubplot at 0x1844a81bb08>"
      ]
     },
     "execution_count": 27,
     "metadata": {},
     "output_type": "execute_result"
    },
    {
     "data": {
      "image/png": "[encoded data removed]",
      "text/plain": [
       "<Figure size 432x288 with 1 Axes>"
      ]
     },
     "metadata": {
      "needs_background": "light"
     },
     "output_type": "display_data"
    }
   ],
   "source": [
    "malclasificados=df2[df2['class']!=df2['trueclass']]\n",
    "bienclasificados=df2[df2['class']==df2['trueclass']]\n",
    "\n",
    "bienclasificados[bienclasificados['class']==1].probaMorir.hist(color='blue')\n"
   ]
  },
  {
   "cell_type": "code",
   "execution_count": 26,
   "metadata": {},
   "outputs": [
    {
     "data": {
      "text/plain": [
       "<matplotlib.axes._subplots.AxesSubplot at 0x18449361d48>"
      ]
     },
     "execution_count": 26,
     "metadata": {},
     "output_type": "execute_result"
    },
    {
     "data": {
      "image/png": "[encoded data removed]",
      "text/plain": [
       "<Figure size 432x288 with 1 Axes>"
      ]
     },
     "metadata": {
      "needs_background": "light"
     },
     "output_type": "display_data"
    }
   ],
   "source": [
    "malclasificados[malclasificados['class']==1].probaMorir.hist(color='red')"
   ]
  },
  {
   "cell_type": "code",
   "execution_count": 72,
   "metadata": {},
   "outputs": [
    {
     "name": "stdout",
     "output_type": "stream",
     "text": [
      "probaVivir    76\n",
      "probaMorir    76\n",
      "class         76\n",
      "trueclass     76\n",
      "dtype: int64\n",
      "probaVivir    236\n",
      "probaMorir    236\n",
      "class         236\n",
      "trueclass     236\n",
      "dtype: int64\n"
     ]
    }
   ],
   "source": [
    "print(bienclasificados[bienclasificados['class']==1].count())\n",
    "print(malclasificados[malclasificados['class']==1].count())"
   ]
  },
  {
   "cell_type": "markdown",
   "metadata": {},
   "source": [
    "### Import The best model : Logistic"
   ]
  },
  {
   "cell_type": "code",
   "execution_count": 76,
   "metadata": {},
   "outputs": [
    {
     "data": {
      "text/plain": [
       "['modelLog.model']"
      ]
     },
     "execution_count": 76,
     "metadata": {},
     "output_type": "execute_result"
    }
   ],
   "source": [
    "import joblib\n",
    "\n",
    "joblib.dump(log_result, 'modelLog.model') \n"
   ]
  },
  {
   "cell_type": "markdown",
   "metadata": {},
   "source": [
    "### SVM"
   ]
  },
  {
   "cell_type": "code",
   "execution_count": 41,
   "metadata": {},
   "outputs": [
    {
     "name": "stdout",
     "output_type": "stream",
     "text": [
      "# Tuning hyper-parameters for f1\n",
      "\n",
      "Best parameters set found on development set:\n",
      "\n",
      "{'C': 100, 'gamma': 'auto', 'kernel': 'rbf'}\n",
      "\n",
      "Grid scores on development set:\n",
      "\n",
      "0.915 (+/-0.013) for {'C': 1, 'gamma': 'auto', 'kernel': 'rbf'}\n",
      "0.938 (+/-0.013) for {'C': 10, 'gamma': 'auto', 'kernel': 'rbf'}\n",
      "0.966 (+/-0.022) for {'C': 100, 'gamma': 'auto', 'kernel': 'rbf'}\n",
      "0.908 (+/-0.010) for {'C': 1, 'kernel': 'linear'}\n",
      "0.908 (+/-0.011) for {'C': 10, 'kernel': 'linear'}\n",
      "0.908 (+/-0.011) for {'C': 100, 'kernel': 'linear'}\n",
      "\n",
      "Detailed classification report:\n",
      "\n",
      "The model is trained on the full development set.\n",
      "The scores are computed on the full evaluation set.\n",
      "\n",
      "              precision    recall  f1-score   support\n",
      "\n",
      "         0.0       0.98      0.96      0.97      1867\n",
      "         1.0       0.40      0.62      0.49        85\n",
      "\n",
      "    accuracy                           0.94      1952\n",
      "   macro avg       0.69      0.79      0.73      1952\n",
      "weighted avg       0.96      0.94      0.95      1952\n",
      "\n",
      "\n"
     ]
    },
    {
     "data": {
      "image/png": "[encoded data removed]",
      "text/plain": [
       "<Figure size 432x288 with 2 Axes>"
      ]
     },
     "metadata": {
      "needs_background": "light"
     },
     "output_type": "display_data"
    }
   ],
   "source": [
    "from sklearn.svm import SVC\n",
    "# Set the parameters by cross-validation\n",
    "tuned_parameters = [{'kernel': ['rbf'], 'gamma': ['auto'],\n",
    "                     'C': [1, 10, 100]},\n",
    "                    {'kernel': ['linear'], 'C': [1, 10, 100]}]\n",
    "\n",
    "scores = ['f1']\n",
    "\n",
    "for score in scores:\n",
    "    print(\"# Tuning hyper-parameters for %s\" % score)\n",
    "    print()\n",
    "\n",
    "    clf = GridSearchCV(#'%s_macro' % score\n",
    "        SVC(probability=True, random_state=42), tuned_parameters, scoring='%s_macro' % score, cv=5,n_jobs=-1\n",
    "    )\n",
    "    clf.fit(X_train, y_train)\n",
    "\n",
    "    print(\"Best parameters set found on development set:\")\n",
    "    print()\n",
    "    print(clf.best_params_)\n",
    "    print()\n",
    "    print(\"Grid scores on development set:\")\n",
    "    print()\n",
    "    means = clf.cv_results_['mean_test_score']\n",
    "    stds = clf.cv_results_['std_test_score']\n",
    "    for mean, std, params in zip(means, stds, clf.cv_results_['params']):\n",
    "        print(\"%0.3f (+/-%0.03f) for %r\"\n",
    "              % (mean, std * 2, params))\n",
    "    print()\n",
    "\n",
    "    print(\"Detailed classification report:\")\n",
    "    print()\n",
    "    print(\"The model is trained on the full development set.\")\n",
    "    print(\"The scores are computed on the full evaluation set.\")\n",
    "    print()\n",
    "    y_true, y_pred = y_test, clf.predict(X_test)\n",
    "    print(classification_report(y_true, y_pred))\n",
    "    plot_confusion_matrix(clf,X_test, y_test)\n",
    "    print()\n",
    "\n",
    "    ### PROBLEMAS CON ZERO DIVISION\n",
    "    "
   ]
  },
  {
   "cell_type": "markdown",
   "metadata": {},
   "source": [
    "### Curvas Roc"
   ]
  },
  {
   "cell_type": "code",
   "execution_count": 46,
   "metadata": {
    "scrolled": true
   },
   "outputs": [
    {
     "data": {
      "image/png": "[encoded data removed]",
      "text/plain": [
       "<Figure size 432x288 with 1 Axes>"
      ]
     },
     "metadata": {
      "needs_background": "light"
     },
     "output_type": "display_data"
    }
   ],
   "source": [
    "from sklearn.metrics import roc_curve, auc\n",
    "import matplotlib.pyplot as plt\n",
    "###Roc\n",
    "roc_dt = roc_curve(y_test,BestDT_pred)\n",
    "roc_rf = roc_curve(y_test, BestRF_pred)\n",
    "roc_gb=roc_curve(y_test,GB_pred)\n",
    "roc_knn=roc_curve(y_test,BestKnn_pred)\n",
    "roc_log=roc_curve(y_test, log_pred)\n",
    "###Auc\n",
    "auc_dt = auc( roc_dt[0], roc_dt[1] )\n",
    "auc_rf = auc( roc_rf[0], roc_rf[1])\n",
    "auc_gb=auc(roc_gb[0], roc_gb[1])\n",
    "auc_knn=auc(roc_knn[0], roc_knn[1])\n",
    "auc_log=auc(roc_log[0], roc_log[1])\n",
    "\n",
    "plt.figure()\n",
    "line_width = 2\n",
    "plt.plot(roc_dt[0], roc_dt[1], color='darkorange',\n",
    "         lw=line_width, label=f'Decision Tree (AUC = {auc_log:0.2f})')\n",
    "plt.plot(roc_rf[0], roc_dt[1], color='darkgreen',\n",
    "         lw=line_width, label=f'Random Forest (AUC = {auc_rf:0.2f})')\n",
    "plt.plot(roc_gb[0], roc_gb[1], color='green',\n",
    "         lw=line_width, label=f'Gradient Boosting (AUC = {auc_gb:0.2f})')\n",
    "plt.plot(roc_knn[0], roc_knn[1], color='blue',\n",
    "         lw=line_width, label=f'Knn (AUC = {auc_knn:0.2f})')\n",
    "plt.plot(roc_log[0], roc_log[1], color='orange',\n",
    "         lw=line_width, label=f'Logistic (AUC = {auc_log:0.2f})')\n",
    "\n",
    "\n",
    "\n",
    "plt.plot([0, 1], [0, 1], color='navy', lw=line_width, linestyle='--', label='Random guess')\n",
    "plt.xlim([0.0, 1.0])\n",
    "plt.ylim([0.0, 1.05])\n",
    "plt.xlabel('False Positive Rate')\n",
    "plt.ylabel('True Positive Rate')\n",
    "plt.title('Death Covid Bucaramanga')\n",
    "plt.legend(loc='lower right')\n",
    "plt.show()"
   ]
  },
  {
   "cell_type": "markdown",
   "metadata": {},
   "source": [
    "# MODELOS CON RECALL"
   ]
  },
  {
   "cell_type": "markdown",
   "metadata": {},
   "source": [
    "### Decision Tree"
   ]
  },
  {
   "cell_type": "code",
   "execution_count": 47,
   "metadata": {},
   "outputs": [
    {
     "name": "stdout",
     "output_type": "stream",
     "text": [
      "Fitting 5 folds for each of 722 candidates, totalling 3610 fits\n"
     ]
    },
    {
     "name": "stderr",
     "output_type": "stream",
     "text": [
      "[Parallel(n_jobs=-1)]: Using backend LokyBackend with 12 concurrent workers.\n",
      "[Parallel(n_jobs=-1)]: Done  26 tasks      | elapsed:    2.9s\n",
      "[Parallel(n_jobs=-1)]: Done 280 tasks      | elapsed:    4.7s\n",
      "[Parallel(n_jobs=-1)]: Done 780 tasks      | elapsed:    8.6s\n",
      "[Parallel(n_jobs=-1)]: Done 1480 tasks      | elapsed:   15.1s\n",
      "[Parallel(n_jobs=-1)]: Done 2380 tasks      | elapsed:   22.7s\n",
      "[Parallel(n_jobs=-1)]: Done 3480 tasks      | elapsed:   33.2s\n"
     ]
    },
    {
     "name": "stdout",
     "output_type": "stream",
     "text": [
      "Best: 0.973202 using {'criterion': 'entropy', 'max_depth': 2, 'max_features': 12}\n"
     ]
    },
    {
     "name": "stderr",
     "output_type": "stream",
     "text": [
      "[Parallel(n_jobs=-1)]: Done 3610 out of 3610 | elapsed:   34.6s finished\n"
     ]
    }
   ],
   "source": [
    "DT = DecisionTreeClassifier(random_state=42)\n",
    "max_features = range(1,20)\n",
    "criterion = ['gini','entropy']\n",
    "max_depth = range(1,20)\n",
    "\n",
    "\n",
    "grid = dict(max_features=max_features,criterion=criterion,max_depth=max_depth)\n",
    "cv = StratifiedKFold(n_splits=5)\n",
    "grid_search = GridSearchCV(estimator=DT, param_grid=grid, n_jobs=-1, cv=cv, scoring='recall',verbose=1)\n",
    "grid_result = grid_search.fit(X_train, y_train)\n",
    "# summarize results\n",
    "print(\"Best: %f using %s\" % (grid_result.best_score_, grid_result.best_params_))"
   ]
  },
  {
   "cell_type": "code",
   "execution_count": 48,
   "metadata": {},
   "outputs": [
    {
     "name": "stdout",
     "output_type": "stream",
     "text": [
      "Accuracy of DT cross-validation: 0.8389375096065279\n",
      "Cross-validation precision 0.8657794385587241\n",
      "Cross-validation f1 0.8358720812858763\n",
      "Cross-validation  Recall 0.9732021102948704\n",
      "              precision    recall  f1-score   support\n",
      "\n",
      "         0.0       1.00      0.68      0.81      1867\n",
      "         1.0       0.12      0.95      0.21        85\n",
      "\n",
      "    accuracy                           0.69      1952\n",
      "   macro avg       0.56      0.81      0.51      1952\n",
      "weighted avg       0.96      0.69      0.78      1952\n",
      "\n"
     ]
    },
    {
     "data": {
      "image/png": "[encoded data removed]",
      "text/plain": [
       "<Figure size 432x288 with 2 Axes>"
      ]
     },
     "metadata": {
      "needs_background": "light"
     },
     "output_type": "display_data"
    }
   ],
   "source": [
    "BestDT=grid_result.best_estimator_\n",
    "BestDT_pred=BestDT.predict(X_test)\n",
    "plot_confusion_matrix(BestDT, X_test, y_test)\n",
    "print('Accuracy of DT cross-validation:',\n",
    "    cross_val_score(BestDT,X_train, y_train, cv=cv).mean())\n",
    "print('Cross-validation precision', cross_val_score(BestDT, X_train, y_train, cv=cv, scoring = 'precision_macro').mean())\n",
    "print('Cross-validation f1', cross_val_score(BestDT, X_train, y_train, cv=cv, scoring = 'f1_macro').mean())\n",
    "print('Cross-validation  Recall', cross_val_score(BestDT, X_train, y_train, cv=cv, scoring = 'recall').mean())\n",
    "print(classification_report(y_test,BestDT_pred))"
   ]
  },
  {
   "cell_type": "code",
   "execution_count": null,
   "metadata": {},
   "outputs": [],
   "source": []
  },
  {
   "cell_type": "markdown",
   "metadata": {},
   "source": [
    "### Random Forest"
   ]
  },
  {
   "cell_type": "code",
   "execution_count": 49,
   "metadata": {},
   "outputs": [
    {
     "name": "stdout",
     "output_type": "stream",
     "text": [
      "Fitting 5 folds for each of 13718 candidates, totalling 68590 fits\n"
     ]
    },
    {
     "name": "stderr",
     "output_type": "stream",
     "text": [
      "[Parallel(n_jobs=-1)]: Using backend LokyBackend with 12 concurrent workers.\n",
      "[Parallel(n_jobs=-1)]: Done  28 tasks      | elapsed:    0.3s\n",
      "[Parallel(n_jobs=-1)]: Done 328 tasks      | elapsed:    4.3s\n",
      "[Parallel(n_jobs=-1)]: Done 828 tasks      | elapsed:   10.4s\n",
      "[Parallel(n_jobs=-1)]: Done 1528 tasks      | elapsed:   18.9s\n",
      "[Parallel(n_jobs=-1)]: Done 2428 tasks      | elapsed:   29.4s\n",
      "[Parallel(n_jobs=-1)]: Done 3528 tasks      | elapsed:   42.9s\n",
      "[Parallel(n_jobs=-1)]: Done 4828 tasks      | elapsed:  1.1min\n",
      "[Parallel(n_jobs=-1)]: Done 6328 tasks      | elapsed:  1.4min\n",
      "[Parallel(n_jobs=-1)]: Done 8028 tasks      | elapsed:  1.8min\n",
      "[Parallel(n_jobs=-1)]: Done 9928 tasks      | elapsed:  2.3min\n",
      "[Parallel(n_jobs=-1)]: Done 12028 tasks      | elapsed:  2.9min\n",
      "[Parallel(n_jobs=-1)]: Done 14328 tasks      | elapsed:  3.7min\n",
      "[Parallel(n_jobs=-1)]: Done 16828 tasks      | elapsed:  4.5min\n",
      "[Parallel(n_jobs=-1)]: Done 19528 tasks      | elapsed:  5.6min\n",
      "[Parallel(n_jobs=-1)]: Done 22428 tasks      | elapsed:  6.8min\n",
      "[Parallel(n_jobs=-1)]: Done 24440 tasks      | elapsed:  7.6min\n",
      "[Parallel(n_jobs=-1)]: Done 26090 tasks      | elapsed:  8.4min\n",
      "[Parallel(n_jobs=-1)]: Done 27840 tasks      | elapsed:  9.2min\n",
      "[Parallel(n_jobs=-1)]: Done 29690 tasks      | elapsed: 10.1min\n",
      "[Parallel(n_jobs=-1)]: Done 31640 tasks      | elapsed: 11.0min\n",
      "[Parallel(n_jobs=-1)]: Done 33690 tasks      | elapsed: 12.0min\n",
      "[Parallel(n_jobs=-1)]: Done 37240 tasks      | elapsed: 13.0min\n",
      "[Parallel(n_jobs=-1)]: Done 41740 tasks      | elapsed: 14.0min\n",
      "[Parallel(n_jobs=-1)]: Done 46440 tasks      | elapsed: 15.3min\n",
      "[Parallel(n_jobs=-1)]: Done 51340 tasks      | elapsed: 17.1min\n",
      "[Parallel(n_jobs=-1)]: Done 56072 tasks      | elapsed: 19.1min\n",
      "[Parallel(n_jobs=-1)]: Done 58722 tasks      | elapsed: 20.3min\n",
      "[Parallel(n_jobs=-1)]: Done 61472 tasks      | elapsed: 21.9min\n",
      "[Parallel(n_jobs=-1)]: Done 64322 tasks      | elapsed: 23.5min\n",
      "[Parallel(n_jobs=-1)]: Done 67272 tasks      | elapsed: 25.1min\n",
      "[Parallel(n_jobs=-1)]: Done 68590 out of 68590 | elapsed: 25.9min finished\n"
     ]
    },
    {
     "name": "stdout",
     "output_type": "stream",
     "text": [
      "Best: 0.982317 using {'criterion': 'entropy', 'max_depth': 17, 'max_features': 11, 'n_estimators': 19}\n"
     ]
    }
   ],
   "source": [
    "# define models and parameters\n",
    "RF= RandomForestClassifier(random_state=42)\n",
    "max_features = range(1,20)\n",
    "max_estimators=range(1,20)\n",
    "criterion = ['gini', 'entropy']\n",
    "max_depth = range(1,20)\n",
    "cv = StratifiedKFold(n_splits=5)\n",
    "grid = dict(max_features=max_features,criterion=criterion,max_depth=max_depth, n_estimators=max_estimators)\n",
    "grid_search = GridSearchCV(estimator=RF, param_grid=grid, n_jobs=-1, cv=cv, verbose=1,scoring=\"recall\")\n",
    "grid_result = grid_search.fit(X_train, y_train)\n",
    "# summarize results\n",
    "print(\"Best: %f using %s\" % (grid_result.best_score_, grid_result.best_params_))"
   ]
  },
  {
   "cell_type": "code",
   "execution_count": 50,
   "metadata": {},
   "outputs": [
    {
     "name": "stdout",
     "output_type": "stream",
     "text": [
      "Accuracy of RF classifier on test set: 0.95\n",
      "Accuracy of RF cross-validation: 0.9748776478956515\n",
      "Cross-validation Precision  0.9753165618616148\n",
      "Cross-validation f1 0.9748709486768579\n",
      "Cross-validation  Recall 0.9823165837357175\n",
      "              precision    recall  f1-score   support\n",
      "\n",
      "         0.0       0.98      0.96      0.97      1867\n",
      "         1.0       0.42      0.56      0.48        85\n",
      "\n",
      "    accuracy                           0.95      1952\n",
      "   macro avg       0.70      0.76      0.73      1952\n",
      "weighted avg       0.96      0.95      0.95      1952\n",
      "\n"
     ]
    },
    {
     "data": {
      "image/png": "[encoded data removed]",
      "text/plain": [
       "<Figure size 432x288 with 2 Axes>"
      ]
     },
     "metadata": {
      "needs_background": "light"
     },
     "output_type": "display_data"
    }
   ],
   "source": [
    "BestRF=grid_search.best_estimator_\n",
    "BestRF_pred=BestRF.predict(X_test)\n",
    "plot_confusion_matrix(BestRF, X_test, y_test)\n",
    "print('Accuracy of RF classifier on test set: {:.2f}'\n",
    "     .format(BestRF.score(X_test, y_test)))\n",
    "print('Accuracy of RF cross-validation:',\n",
    "    cross_val_score(BestRF,X_train, y_train, cv=cv).mean())\n",
    "print('Cross-validation Precision ', cross_val_score(BestRF, X_train, y_train, cv=cv, scoring = 'precision_macro').mean())\n",
    "print('Cross-validation f1', cross_val_score(BestRF, X_train, y_train, cv=cv, scoring = 'f1_macro').mean())\n",
    "print('Cross-validation  Recall', cross_val_score(BestRF, X_train, y_train, cv=cv, scoring = 'recall').mean())\n",
    "print(classification_report(y_test,BestRF_pred) )"
   ]
  },
  {
   "cell_type": "markdown",
   "metadata": {},
   "source": [
    "### Gradient Boosting\n",
    "\n",
    "\n",
    "Pendiente"
   ]
  },
  {
   "cell_type": "code",
   "execution_count": 51,
   "metadata": {},
   "outputs": [
    {
     "name": "stdout",
     "output_type": "stream",
     "text": [
      "100%|██████████| 10/10 [00:14<00:00,  1.46s/trial, best loss: -0.9745469025245607]\n",
      "best:\n",
      "{'learning_rate': 0.7387897690657034, 'max_depth': 5, 'max_features': 10, 'n_estimators': 20}\n"
     ]
    }
   ],
   "source": [
    "cv = StratifiedKFold(n_splits=5)\n",
    "def hyperopt_train_test(params):\n",
    "    clf = GradientBoostingClassifier(**params, random_state=42)\n",
    "    return cross_val_score(clf, X_train, y_train, cv=cv, scoring=\"recall\").mean()\n",
    "space4rf = {\n",
    "    'max_depth': hp.choice('max_depth', range(1,20)),\n",
    "    'max_features': hp.choice('max_features', range(1,20)),\n",
    "    'n_estimators': hp.choice('n_estimators', range(1,25)),\n",
    "    'learning_rate': hp.loguniform('learning_rate', np.log(0.01), np.log(1))}\n",
    "best = 0\n",
    "def f(params):\n",
    "    acc = hyperopt_train_test(params)\n",
    "    return {'loss': -acc, 'status': STATUS_OK}\n",
    "trials = Trials()\n",
    "best = fmin(f, space4rf, algo=tpe.suggest, max_evals=10, trials=trials)\n",
    "print('best:')\n",
    "print(best)"
   ]
  },
  {
   "cell_type": "code",
   "execution_count": 52,
   "metadata": {
    "scrolled": false
   },
   "outputs": [
    {
     "name": "stdout",
     "output_type": "stream",
     "text": [
      "Accuracy of GB classifier on test set: 0.95\n",
      "Accuracy of GB cross-validation: 0.976954856892186\n",
      "Cross-validation precission 0.9774540007991387\n",
      "Cross-validation (f1) 0.9769450243523012\n",
      "Cross-validation  Recall 0.9807091718457357\n",
      "              precision    recall  f1-score   support\n",
      "\n",
      "         0.0       0.98      0.97      0.98      1867\n",
      "         1.0       0.46      0.51      0.48        85\n",
      "\n",
      "    accuracy                           0.95      1952\n",
      "   macro avg       0.72      0.74      0.73      1952\n",
      "weighted avg       0.95      0.95      0.95      1952\n",
      "\n"
     ]
    },
    {
     "data": {
      "image/png": "[encoded data removed]",
      "text/plain": [
       "<Figure size 432x288 with 2 Axes>"
      ]
     },
     "metadata": {
      "needs_background": "light"
     },
     "output_type": "display_data"
    }
   ],
   "source": [
    "GB = GradientBoostingClassifier(n_estimators=21, learning_rate=0.075, max_features=9, max_depth=17, random_state=42)\n",
    "GB.fit(X_train, y_train)\n",
    "GB_pred=GB.predict(X_test)\n",
    "plot_confusion_matrix(GB, X_test, y_test)\n",
    "print('Accuracy of GB classifier on test set: {:.2f}'\n",
    "     .format(GB.score(X_test, y_test)))\n",
    "print('Accuracy of GB cross-validation:',\n",
    "    cross_val_score(GB,X_train, y_train, cv=cv).mean())\n",
    "print('Cross-validation precission', cross_val_score(GB, X_train, y_train, cv=5, scoring = 'precision_macro').mean())\n",
    "print('Cross-validation (f1)', cross_val_score(GB, X_train, y_train, cv=5, scoring = 'f1_macro').mean())\n",
    "print('Cross-validation  Recall', cross_val_score(GB, X_train, y_train, cv=cv, scoring = 'recall').mean())\n",
    "print(classification_report(y_test,GB_pred))"
   ]
  },
  {
   "cell_type": "markdown",
   "metadata": {},
   "source": [
    "### Ensamble Forest"
   ]
  },
  {
   "cell_type": "code",
   "execution_count": 53,
   "metadata": {},
   "outputs": [
    {
     "name": "stdout",
     "output_type": "stream",
     "text": [
      "Accuracy: 0.84 (+/- 0.01) [Decision Tree]\n",
      "Accuracy: 0.97 (+/- 0.01) [Random Forest]\n",
      "Accuracy: 0.98 (+/- 0.01) [Gradient Boosting]\n",
      "Accuracy: 0.97 (+/- 0.01) [Ensemble]\n"
     ]
    }
   ],
   "source": [
    "from sklearn.ensemble import VotingClassifier\n",
    "eclf = VotingClassifier(estimators=[('GB', GB),(\"RF\",BestRF),(\"DT\",BestDT)],voting='soft')\n",
    "for clf, label in zip([BestDT,BestRF,GB,eclf], ['Decision Tree',\"Random Forest\",\"Gradient Boosting\",'Ensemble']):\n",
    "    scores = cross_val_score(clf, X_train, y_train, scoring='f1_macro', cv=cv)\n",
    "    print(\"Accuracy: %0.2f (+/- %0.2f) [%s]\" % (scores.mean(), scores.std(), label))"
   ]
  },
  {
   "cell_type": "code",
   "execution_count": 54,
   "metadata": {},
   "outputs": [
    {
     "name": "stdout",
     "output_type": "stream",
     "text": [
      "              precision    recall  f1-score   support\n",
      "\n",
      "         0.0       0.98      0.96      0.97      1867\n",
      "         1.0       0.40      0.66      0.50        85\n",
      "\n",
      "    accuracy                           0.94      1952\n",
      "   macro avg       0.69      0.81      0.73      1952\n",
      "weighted avg       0.96      0.94      0.95      1952\n",
      "\n",
      "Accuracy of ECLF classifier on test set: 0.94\n",
      "Accuracy of ECLF cross-validation: 0.9686467389414138\n",
      "Cross-validation Precission 0.9691035305785475\n",
      "Cross-validation  f1 0.9686395306757906\n",
      "Cross-validation  Recall 0.9791001438347677\n"
     ]
    },
    {
     "data": {
      "image/png": "[encoded data removed]",
      "text/plain": [
       "<Figure size 432x288 with 2 Axes>"
      ]
     },
     "metadata": {
      "needs_background": "light"
     },
     "output_type": "display_data"
    }
   ],
   "source": [
    "eclf.fit(X_train,y_train)\n",
    "eclf_pred=eclf.predict(X_test)\n",
    "plot_confusion_matrix(eclf, X_test, y_test)\n",
    "class_report=classification_report(y_test,eclf_pred)\n",
    "print(class_report)\n",
    "print('Accuracy of ECLF classifier on test set: {:.2f}'\n",
    "     .format(eclf.score(X_test, y_test)))\n",
    "print('Accuracy of ECLF cross-validation:',\n",
    "    cross_val_score(eclf,X_train, y_train, cv=cv).mean())\n",
    "print('Cross-validation Precission', cross_val_score(eclf, X_train, y_train, cv=cv, scoring = 'precision_macro').mean())\n",
    "print('Cross-validation  f1', cross_val_score(eclf, X_train, y_train, cv=cv, scoring = 'f1_macro').mean())\n",
    "print('Cross-validation  Recall', cross_val_score(eclf, X_train, y_train, cv=cv, scoring = 'recall').mean())"
   ]
  },
  {
   "cell_type": "code",
   "execution_count": null,
   "metadata": {},
   "outputs": [],
   "source": []
  },
  {
   "cell_type": "markdown",
   "metadata": {},
   "source": [
    "### K-vecinos"
   ]
  },
  {
   "cell_type": "code",
   "execution_count": 55,
   "metadata": {},
   "outputs": [
    {
     "name": "stdout",
     "output_type": "stream",
     "text": [
      "Best: 0.985931 using {'n_neighbors': 3, 'p': 2}\n",
      "\n",
      "[0.93862296 0.95304925 0.95673729 0.94869498 0.94766369]\n",
      "\n",
      "0.9489536344653352\n",
      "\n",
      "0.00609611340223112\n"
     ]
    }
   ],
   "source": [
    "n_neighbors = list(range(1,30))\n",
    "p=[1,2]\n",
    "cv = StratifiedKFold(n_splits=5)\n",
    "#Convert to dictionary\n",
    "hyperparameters = dict(n_neighbors=n_neighbors, p=p)\n",
    "#Create new KNN object\n",
    "knn = KNeighborsClassifier()\n",
    "#Use GridSearch\n",
    "knn_search = GridSearchCV(knn, hyperparameters, cv=cv, scoring=\"recall\", n_jobs=-1)\n",
    "knn_result= knn_search.fit(X_train,y_train)\n",
    "# summarize results\n",
    "print(\"Best: %f using %s\" % (knn_result.best_score_, knn_result.best_params_))\n",
    "CV_Result = cross_val_score(knn_result, X_train, y_train, cv=cv, scoring=\"f1_macro\")\n",
    "print(); print(CV_Result)\n",
    "print(); print(CV_Result.mean())\n",
    "print(); print(CV_Result.std())"
   ]
  },
  {
   "cell_type": "code",
   "execution_count": 56,
   "metadata": {},
   "outputs": [
    {
     "name": "stdout",
     "output_type": "stream",
     "text": [
      "<bound method BaseEstimator.get_params of KNeighborsClassifier(n_neighbors=3)>\n",
      "Accuracy of KNN classifier on test set: 0.90\n",
      "Accuracy of KNN cross-validation: 0.954308313166637\n",
      "Cross-validation Precission 0.9561415153908301\n",
      "Cross-validation  f1 0.9542624715425413\n",
      "Cross-validation  Recall 0.9859311281063192\n",
      "              precision    recall  f1-score   support\n",
      "\n",
      "         0.0       0.99      0.91      0.95      1867\n",
      "         1.0       0.27      0.74      0.40        85\n",
      "\n",
      "    accuracy                           0.90      1952\n",
      "   macro avg       0.63      0.83      0.67      1952\n",
      "weighted avg       0.96      0.90      0.92      1952\n",
      "\n"
     ]
    },
    {
     "data": {
      "image/png": "[encoded data removed]",
      "text/plain": [
       "<Figure size 432x288 with 2 Axes>"
      ]
     },
     "metadata": {
      "needs_background": "light"
     },
     "output_type": "display_data"
    }
   ],
   "source": [
    "BestKnn=knn_search.best_estimator_\n",
    "print(BestKnn.get_params)\n",
    "BestKnn_pred=BestKnn.predict(X_test)\n",
    "plot_confusion_matrix(BestKnn, X_test, y_test)\n",
    "class_report=classification_report(y_test,BestKnn_pred)\n",
    "\n",
    "\n",
    "print('Accuracy of KNN classifier on test set: {:.2f}'\n",
    "     .format(BestKnn.score(X_test, y_test)))\n",
    "print('Accuracy of KNN cross-validation:',\n",
    "    cross_val_score(BestKnn,X_train, y_train, cv=cv).mean())\n",
    "print('Cross-validation Precission', cross_val_score(BestKnn, X_train, y_train, cv=cv, scoring = 'precision_macro').mean())\n",
    "print('Cross-validation  f1', cross_val_score(BestKnn, X_train, y_train, cv=cv, scoring = 'f1_macro').mean())\n",
    "print('Cross-validation  Recall', cross_val_score(BestKnn, X_train, y_train, cv=cv, scoring = 'recall').mean())\n",
    "print(class_report)"
   ]
  },
  {
   "cell_type": "markdown",
   "metadata": {},
   "source": [
    "### Logistic"
   ]
  },
  {
   "cell_type": "code",
   "execution_count": 57,
   "metadata": {},
   "outputs": [
    {
     "name": "stdout",
     "output_type": "stream",
     "text": [
      "Best: 0.917325 using {'C': 0.01, 'penalty': 'l2', 'solver': 'newton-cg'}\n",
      "0.916522 (0.003352) with: {'C': 100, 'penalty': 'l2', 'solver': 'newton-cg'}\n",
      "0.916522 (0.003352) with: {'C': 100, 'penalty': 'l2', 'solver': 'lbfgs'}\n",
      "nan (nan) with: {'C': 100, 'penalty': 'l2', 'solver': 'liblinear'}\n",
      "0.916522 (0.003352) with: {'C': 10, 'penalty': 'l2', 'solver': 'newton-cg'}\n",
      "0.916522 (0.003352) with: {'C': 10, 'penalty': 'l2', 'solver': 'lbfgs'}\n",
      "nan (nan) with: {'C': 10, 'penalty': 'l2', 'solver': 'liblinear'}\n",
      "0.916521 (0.003636) with: {'C': 1.0, 'penalty': 'l2', 'solver': 'newton-cg'}\n",
      "0.916521 (0.003636) with: {'C': 1.0, 'penalty': 'l2', 'solver': 'lbfgs'}\n",
      "nan (nan) with: {'C': 1.0, 'penalty': 'l2', 'solver': 'liblinear'}\n",
      "0.916387 (0.004119) with: {'C': 0.1, 'penalty': 'l2', 'solver': 'newton-cg'}\n",
      "0.916387 (0.004119) with: {'C': 0.1, 'penalty': 'l2', 'solver': 'lbfgs'}\n",
      "nan (nan) with: {'C': 0.1, 'penalty': 'l2', 'solver': 'liblinear'}\n",
      "0.917325 (0.004437) with: {'C': 0.01, 'penalty': 'l2', 'solver': 'newton-cg'}\n",
      "0.917325 (0.004437) with: {'C': 0.01, 'penalty': 'l2', 'solver': 'lbfgs'}\n",
      "nan (nan) with: {'C': 0.01, 'penalty': 'l2', 'solver': 'liblinear'}\n"
     ]
    }
   ],
   "source": [
    "# Gid searching key hyperparametres for logistic regression\n",
    "from sklearn.datasets import make_blobs\n",
    "from sklearn.model_selection import RepeatedStratifiedKFold\n",
    "from sklearn.model_selection import GridSearchCV\n",
    "from sklearn.linear_model import LogisticRegression\n",
    "cv = StratifiedKFold(n_splits=5)\n",
    "# define models and parameters\n",
    "log = LogisticRegression(multi_class=\"multinomial\", max_iter=1000, random_state=42)\n",
    "solvers = ['newton-cg', 'lbfgs', 'liblinear']\n",
    "penalty = ['l2']\n",
    "c_values = [100, 10, 1.0, 0.1, 0.01]\n",
    "# define grid search\n",
    "grid = dict(solver=solvers,penalty=penalty,C=c_values)\n",
    "log_search = GridSearchCV(estimator=log, param_grid=grid, n_jobs=-1, cv=cv, scoring='recall')\n",
    "log_result = log_search.fit(X_train, y_train)\n",
    "# summarize results\n",
    "print(\"Best: %f using %s\" % (log_result.best_score_, log_result.best_params_))\n",
    "means = log_result.cv_results_['mean_test_score']\n",
    "stds = log_result.cv_results_['std_test_score']\n",
    "params = log_result.cv_results_['params']\n",
    "for mean, stdev, param in zip(means, stds, params):\n",
    "    print(\"%f (%f) with: %r\" % (mean, stdev, param))"
   ]
  },
  {
   "cell_type": "code",
   "execution_count": 58,
   "metadata": {},
   "outputs": [
    {
     "name": "stdout",
     "output_type": "stream",
     "text": [
      "              precision    recall  f1-score   support\n",
      "\n",
      "         0.0       0.99      0.87      0.93      1867\n",
      "         1.0       0.24      0.89      0.38        85\n",
      "\n",
      "    accuracy                           0.87      1952\n",
      "   macro avg       0.62      0.88      0.66      1952\n",
      "weighted avg       0.96      0.87      0.91      1952\n",
      "\n",
      "Accuracy of Log classifier on test set: 0.89\n",
      "Accuracy of Log cross-validation: 0.9170572591665485\n",
      "Cross-validation Precission 0.9056516057931162\n",
      "Cross-validation F1 0.9053854746355986\n",
      "Cross-validation  Recall 0.9170572591665485\n"
     ]
    },
    {
     "data": {
      "image/png": "[encoded data removed]",
      "text/plain": [
       "<Figure size 432x288 with 2 Axes>"
      ]
     },
     "metadata": {
      "needs_background": "light"
     },
     "output_type": "display_data"
    }
   ],
   "source": [
    "log_pred=log_result.predict(X_test)\n",
    "plot_confusion_matrix(log_result, X_test, y_test)\n",
    "class_report=classification_report(y_test,log_pred)\n",
    "cv = StratifiedKFold(n_splits=5)\n",
    "print(class_report)\n",
    "print('Accuracy of Log classifier on test set: {:.2f}'\n",
    "     .format(log_result.score(X_test, y_test)))\n",
    "print('Accuracy of Log cross-validation:',\n",
    "    cross_val_score(log_result,X_train, y_train, cv=cv).mean())\n",
    "print('Cross-validation Precission', cross_val_score(log_result, X_train, y_train, cv=cv, scoring = 'precision_macro').mean())\n",
    "print('Cross-validation F1', cross_val_score(log_result, X_train, y_train, cv=cv, scoring = 'f1_macro').mean())\n",
    "print('Cross-validation  Recall', cross_val_score(log_result, X_train, y_train, cv=cv, scoring = 'recall').mean())"
   ]
  },
  {
   "cell_type": "markdown",
   "metadata": {},
   "source": [
    "### SVM"
   ]
  },
  {
   "cell_type": "code",
   "execution_count": 59,
   "metadata": {},
   "outputs": [
    {
     "name": "stdout",
     "output_type": "stream",
     "text": [
      "# Tuning hyper-parameters for recall\n",
      "\n"
     ]
    },
    {
     "ename": "KeyboardInterrupt",
     "evalue": "",
     "output_type": "error",
     "traceback": [
      "\u001b[1;31m---------------------------------------------------------------------------\u001b[0m",
      "\u001b[1;31mKeyboardInterrupt\u001b[0m                         Traceback (most recent call last)",
      "\u001b[1;32m<ipython-input-59-f887f56ee06f>\u001b[0m in \u001b[0;36m<module>\u001b[1;34m\u001b[0m\n\u001b[0;32m     14\u001b[0m         \u001b[0mSVC\u001b[0m\u001b[1;33m(\u001b[0m\u001b[0mrandom_state\u001b[0m\u001b[1;33m=\u001b[0m\u001b[1;36m42\u001b[0m\u001b[1;33m,\u001b[0m \u001b[0mprobability\u001b[0m\u001b[1;33m=\u001b[0m\u001b[1;32mTrue\u001b[0m\u001b[1;33m)\u001b[0m\u001b[1;33m,\u001b[0m \u001b[0mtuned_parameters\u001b[0m\u001b[1;33m,\u001b[0m \u001b[0mscoring\u001b[0m\u001b[1;33m=\u001b[0m\u001b[1;34m'%s_macro'\u001b[0m \u001b[1;33m%\u001b[0m \u001b[0mscore\u001b[0m\u001b[1;33m,\u001b[0m \u001b[0mcv\u001b[0m\u001b[1;33m=\u001b[0m\u001b[1;36m5\u001b[0m\u001b[1;33m\u001b[0m\u001b[1;33m\u001b[0m\u001b[0m\n\u001b[0;32m     15\u001b[0m     )\n\u001b[1;32m---> 16\u001b[1;33m     \u001b[0mclf\u001b[0m\u001b[1;33m.\u001b[0m\u001b[0mfit\u001b[0m\u001b[1;33m(\u001b[0m\u001b[0mX_train\u001b[0m\u001b[1;33m,\u001b[0m \u001b[0my_train\u001b[0m\u001b[1;33m)\u001b[0m\u001b[1;33m\u001b[0m\u001b[1;33m\u001b[0m\u001b[0m\n\u001b[0m\u001b[0;32m     17\u001b[0m \u001b[1;33m\u001b[0m\u001b[0m\n\u001b[0;32m     18\u001b[0m     \u001b[0mprint\u001b[0m\u001b[1;33m(\u001b[0m\u001b[1;34m\"Best parameters set found on development set:\"\u001b[0m\u001b[1;33m)\u001b[0m\u001b[1;33m\u001b[0m\u001b[1;33m\u001b[0m\u001b[0m\n",
      "\u001b[1;32m~\\anaconda3\\lib\\site-packages\\sklearn\\utils\\validation.py\u001b[0m in \u001b[0;36minner_f\u001b[1;34m(*args, **kwargs)\u001b[0m\n\u001b[0;32m     71\u001b[0m                           FutureWarning)\n\u001b[0;32m     72\u001b[0m         \u001b[0mkwargs\u001b[0m\u001b[1;33m.\u001b[0m\u001b[0mupdate\u001b[0m\u001b[1;33m(\u001b[0m\u001b[1;33m{\u001b[0m\u001b[0mk\u001b[0m\u001b[1;33m:\u001b[0m \u001b[0marg\u001b[0m \u001b[1;32mfor\u001b[0m \u001b[0mk\u001b[0m\u001b[1;33m,\u001b[0m \u001b[0marg\u001b[0m \u001b[1;32min\u001b[0m \u001b[0mzip\u001b[0m\u001b[1;33m(\u001b[0m\u001b[0msig\u001b[0m\u001b[1;33m.\u001b[0m\u001b[0mparameters\u001b[0m\u001b[1;33m,\u001b[0m \u001b[0margs\u001b[0m\u001b[1;33m)\u001b[0m\u001b[1;33m}\u001b[0m\u001b[1;33m)\u001b[0m\u001b[1;33m\u001b[0m\u001b[1;33m\u001b[0m\u001b[0m\n\u001b[1;32m---> 73\u001b[1;33m         \u001b[1;32mreturn\u001b[0m \u001b[0mf\u001b[0m\u001b[1;33m(\u001b[0m\u001b[1;33m**\u001b[0m\u001b[0mkwargs\u001b[0m\u001b[1;33m)\u001b[0m\u001b[1;33m\u001b[0m\u001b[1;33m\u001b[0m\u001b[0m\n\u001b[0m\u001b[0;32m     74\u001b[0m     \u001b[1;32mreturn\u001b[0m \u001b[0minner_f\u001b[0m\u001b[1;33m\u001b[0m\u001b[1;33m\u001b[0m\u001b[0m\n\u001b[0;32m     75\u001b[0m \u001b[1;33m\u001b[0m\u001b[0m\n",
      "\u001b[1;32m~\\anaconda3\\lib\\site-packages\\sklearn\\model_selection\\_search.py\u001b[0m in \u001b[0;36mfit\u001b[1;34m(self, X, y, groups, **fit_params)\u001b[0m\n\u001b[0;32m    734\u001b[0m                 \u001b[1;32mreturn\u001b[0m \u001b[0mresults\u001b[0m\u001b[1;33m\u001b[0m\u001b[1;33m\u001b[0m\u001b[0m\n\u001b[0;32m    735\u001b[0m \u001b[1;33m\u001b[0m\u001b[0m\n\u001b[1;32m--> 736\u001b[1;33m             \u001b[0mself\u001b[0m\u001b[1;33m.\u001b[0m\u001b[0m_run_search\u001b[0m\u001b[1;33m(\u001b[0m\u001b[0mevaluate_candidates\u001b[0m\u001b[1;33m)\u001b[0m\u001b[1;33m\u001b[0m\u001b[1;33m\u001b[0m\u001b[0m\n\u001b[0m\u001b[0;32m    737\u001b[0m \u001b[1;33m\u001b[0m\u001b[0m\n\u001b[0;32m    738\u001b[0m         \u001b[1;31m# For multi-metric evaluation, store the best_index_, best_params_ and\u001b[0m\u001b[1;33m\u001b[0m\u001b[1;33m\u001b[0m\u001b[1;33m\u001b[0m\u001b[0m\n",
      "\u001b[1;32m~\\anaconda3\\lib\\site-packages\\sklearn\\model_selection\\_search.py\u001b[0m in \u001b[0;36m_run_search\u001b[1;34m(self, evaluate_candidates)\u001b[0m\n\u001b[0;32m   1186\u001b[0m     \u001b[1;32mdef\u001b[0m \u001b[0m_run_search\u001b[0m\u001b[1;33m(\u001b[0m\u001b[0mself\u001b[0m\u001b[1;33m,\u001b[0m \u001b[0mevaluate_candidates\u001b[0m\u001b[1;33m)\u001b[0m\u001b[1;33m:\u001b[0m\u001b[1;33m\u001b[0m\u001b[1;33m\u001b[0m\u001b[0m\n\u001b[0;32m   1187\u001b[0m         \u001b[1;34m\"\"\"Search all candidates in param_grid\"\"\"\u001b[0m\u001b[1;33m\u001b[0m\u001b[1;33m\u001b[0m\u001b[0m\n\u001b[1;32m-> 1188\u001b[1;33m         \u001b[0mevaluate_candidates\u001b[0m\u001b[1;33m(\u001b[0m\u001b[0mParameterGrid\u001b[0m\u001b[1;33m(\u001b[0m\u001b[0mself\u001b[0m\u001b[1;33m.\u001b[0m\u001b[0mparam_grid\u001b[0m\u001b[1;33m)\u001b[0m\u001b[1;33m)\u001b[0m\u001b[1;33m\u001b[0m\u001b[1;33m\u001b[0m\u001b[0m\n\u001b[0m\u001b[0;32m   1189\u001b[0m \u001b[1;33m\u001b[0m\u001b[0m\n\u001b[0;32m   1190\u001b[0m \u001b[1;33m\u001b[0m\u001b[0m\n",
      "\u001b[1;32m~\\anaconda3\\lib\\site-packages\\sklearn\\model_selection\\_search.py\u001b[0m in \u001b[0;36mevaluate_candidates\u001b[1;34m(candidate_params)\u001b[0m\n\u001b[0;32m    713\u001b[0m                                \u001b[1;32mfor\u001b[0m \u001b[0mparameters\u001b[0m\u001b[1;33m,\u001b[0m \u001b[1;33m(\u001b[0m\u001b[0mtrain\u001b[0m\u001b[1;33m,\u001b[0m \u001b[0mtest\u001b[0m\u001b[1;33m)\u001b[0m\u001b[1;33m\u001b[0m\u001b[1;33m\u001b[0m\u001b[0m\n\u001b[0;32m    714\u001b[0m                                in product(candidate_params,\n\u001b[1;32m--> 715\u001b[1;33m                                           cv.split(X, y, groups)))\n\u001b[0m\u001b[0;32m    716\u001b[0m \u001b[1;33m\u001b[0m\u001b[0m\n\u001b[0;32m    717\u001b[0m                 \u001b[1;32mif\u001b[0m \u001b[0mlen\u001b[0m\u001b[1;33m(\u001b[0m\u001b[0mout\u001b[0m\u001b[1;33m)\u001b[0m \u001b[1;33m<\u001b[0m \u001b[1;36m1\u001b[0m\u001b[1;33m:\u001b[0m\u001b[1;33m\u001b[0m\u001b[1;33m\u001b[0m\u001b[0m\n",
      "\u001b[1;32m~\\anaconda3\\lib\\site-packages\\joblib\\parallel.py\u001b[0m in \u001b[0;36m__call__\u001b[1;34m(self, iterable)\u001b[0m\n\u001b[0;32m   1005\u001b[0m                 \u001b[0mself\u001b[0m\u001b[1;33m.\u001b[0m\u001b[0m_iterating\u001b[0m \u001b[1;33m=\u001b[0m \u001b[0mself\u001b[0m\u001b[1;33m.\u001b[0m\u001b[0m_original_iterator\u001b[0m \u001b[1;32mis\u001b[0m \u001b[1;32mnot\u001b[0m \u001b[1;32mNone\u001b[0m\u001b[1;33m\u001b[0m\u001b[1;33m\u001b[0m\u001b[0m\n\u001b[0;32m   1006\u001b[0m \u001b[1;33m\u001b[0m\u001b[0m\n\u001b[1;32m-> 1007\u001b[1;33m             \u001b[1;32mwhile\u001b[0m \u001b[0mself\u001b[0m\u001b[1;33m.\u001b[0m\u001b[0mdispatch_one_batch\u001b[0m\u001b[1;33m(\u001b[0m\u001b[0miterator\u001b[0m\u001b[1;33m)\u001b[0m\u001b[1;33m:\u001b[0m\u001b[1;33m\u001b[0m\u001b[1;33m\u001b[0m\u001b[0m\n\u001b[0m\u001b[0;32m   1008\u001b[0m                 \u001b[1;32mpass\u001b[0m\u001b[1;33m\u001b[0m\u001b[1;33m\u001b[0m\u001b[0m\n\u001b[0;32m   1009\u001b[0m \u001b[1;33m\u001b[0m\u001b[0m\n",
      "\u001b[1;32m~\\anaconda3\\lib\\site-packages\\joblib\\parallel.py\u001b[0m in \u001b[0;36mdispatch_one_batch\u001b[1;34m(self, iterator)\u001b[0m\n\u001b[0;32m    833\u001b[0m                 \u001b[1;32mreturn\u001b[0m \u001b[1;32mFalse\u001b[0m\u001b[1;33m\u001b[0m\u001b[1;33m\u001b[0m\u001b[0m\n\u001b[0;32m    834\u001b[0m             \u001b[1;32melse\u001b[0m\u001b[1;33m:\u001b[0m\u001b[1;33m\u001b[0m\u001b[1;33m\u001b[0m\u001b[0m\n\u001b[1;32m--> 835\u001b[1;33m                 \u001b[0mself\u001b[0m\u001b[1;33m.\u001b[0m\u001b[0m_dispatch\u001b[0m\u001b[1;33m(\u001b[0m\u001b[0mtasks\u001b[0m\u001b[1;33m)\u001b[0m\u001b[1;33m\u001b[0m\u001b[1;33m\u001b[0m\u001b[0m\n\u001b[0m\u001b[0;32m    836\u001b[0m                 \u001b[1;32mreturn\u001b[0m \u001b[1;32mTrue\u001b[0m\u001b[1;33m\u001b[0m\u001b[1;33m\u001b[0m\u001b[0m\n\u001b[0;32m    837\u001b[0m \u001b[1;33m\u001b[0m\u001b[0m\n",
      "\u001b[1;32m~\\anaconda3\\lib\\site-packages\\joblib\\parallel.py\u001b[0m in \u001b[0;36m_dispatch\u001b[1;34m(self, batch)\u001b[0m\n\u001b[0;32m    752\u001b[0m         \u001b[1;32mwith\u001b[0m \u001b[0mself\u001b[0m\u001b[1;33m.\u001b[0m\u001b[0m_lock\u001b[0m\u001b[1;33m:\u001b[0m\u001b[1;33m\u001b[0m\u001b[1;33m\u001b[0m\u001b[0m\n\u001b[0;32m    753\u001b[0m             \u001b[0mjob_idx\u001b[0m \u001b[1;33m=\u001b[0m \u001b[0mlen\u001b[0m\u001b[1;33m(\u001b[0m\u001b[0mself\u001b[0m\u001b[1;33m.\u001b[0m\u001b[0m_jobs\u001b[0m\u001b[1;33m)\u001b[0m\u001b[1;33m\u001b[0m\u001b[1;33m\u001b[0m\u001b[0m\n\u001b[1;32m--> 754\u001b[1;33m             \u001b[0mjob\u001b[0m \u001b[1;33m=\u001b[0m \u001b[0mself\u001b[0m\u001b[1;33m.\u001b[0m\u001b[0m_backend\u001b[0m\u001b[1;33m.\u001b[0m\u001b[0mapply_async\u001b[0m\u001b[1;33m(\u001b[0m\u001b[0mbatch\u001b[0m\u001b[1;33m,\u001b[0m \u001b[0mcallback\u001b[0m\u001b[1;33m=\u001b[0m\u001b[0mcb\u001b[0m\u001b[1;33m)\u001b[0m\u001b[1;33m\u001b[0m\u001b[1;33m\u001b[0m\u001b[0m\n\u001b[0m\u001b[0;32m    755\u001b[0m             \u001b[1;31m# A job can complete so quickly than its callback is\u001b[0m\u001b[1;33m\u001b[0m\u001b[1;33m\u001b[0m\u001b[1;33m\u001b[0m\u001b[0m\n\u001b[0;32m    756\u001b[0m             \u001b[1;31m# called before we get here, causing self._jobs to\u001b[0m\u001b[1;33m\u001b[0m\u001b[1;33m\u001b[0m\u001b[1;33m\u001b[0m\u001b[0m\n",
      "\u001b[1;32m~\\anaconda3\\lib\\site-packages\\joblib\\_parallel_backends.py\u001b[0m in \u001b[0;36mapply_async\u001b[1;34m(self, func, callback)\u001b[0m\n\u001b[0;32m    207\u001b[0m     \u001b[1;32mdef\u001b[0m \u001b[0mapply_async\u001b[0m\u001b[1;33m(\u001b[0m\u001b[0mself\u001b[0m\u001b[1;33m,\u001b[0m \u001b[0mfunc\u001b[0m\u001b[1;33m,\u001b[0m \u001b[0mcallback\u001b[0m\u001b[1;33m=\u001b[0m\u001b[1;32mNone\u001b[0m\u001b[1;33m)\u001b[0m\u001b[1;33m:\u001b[0m\u001b[1;33m\u001b[0m\u001b[1;33m\u001b[0m\u001b[0m\n\u001b[0;32m    208\u001b[0m         \u001b[1;34m\"\"\"Schedule a func to be run\"\"\"\u001b[0m\u001b[1;33m\u001b[0m\u001b[1;33m\u001b[0m\u001b[0m\n\u001b[1;32m--> 209\u001b[1;33m         \u001b[0mresult\u001b[0m \u001b[1;33m=\u001b[0m \u001b[0mImmediateResult\u001b[0m\u001b[1;33m(\u001b[0m\u001b[0mfunc\u001b[0m\u001b[1;33m)\u001b[0m\u001b[1;33m\u001b[0m\u001b[1;33m\u001b[0m\u001b[0m\n\u001b[0m\u001b[0;32m    210\u001b[0m         \u001b[1;32mif\u001b[0m \u001b[0mcallback\u001b[0m\u001b[1;33m:\u001b[0m\u001b[1;33m\u001b[0m\u001b[1;33m\u001b[0m\u001b[0m\n\u001b[0;32m    211\u001b[0m             \u001b[0mcallback\u001b[0m\u001b[1;33m(\u001b[0m\u001b[0mresult\u001b[0m\u001b[1;33m)\u001b[0m\u001b[1;33m\u001b[0m\u001b[1;33m\u001b[0m\u001b[0m\n",
      "\u001b[1;32m~\\anaconda3\\lib\\site-packages\\joblib\\_parallel_backends.py\u001b[0m in \u001b[0;36m__init__\u001b[1;34m(self, batch)\u001b[0m\n\u001b[0;32m    588\u001b[0m         \u001b[1;31m# Don't delay the application, to avoid keeping the input\u001b[0m\u001b[1;33m\u001b[0m\u001b[1;33m\u001b[0m\u001b[1;33m\u001b[0m\u001b[0m\n\u001b[0;32m    589\u001b[0m         \u001b[1;31m# arguments in memory\u001b[0m\u001b[1;33m\u001b[0m\u001b[1;33m\u001b[0m\u001b[1;33m\u001b[0m\u001b[0m\n\u001b[1;32m--> 590\u001b[1;33m         \u001b[0mself\u001b[0m\u001b[1;33m.\u001b[0m\u001b[0mresults\u001b[0m \u001b[1;33m=\u001b[0m \u001b[0mbatch\u001b[0m\u001b[1;33m(\u001b[0m\u001b[1;33m)\u001b[0m\u001b[1;33m\u001b[0m\u001b[1;33m\u001b[0m\u001b[0m\n\u001b[0m\u001b[0;32m    591\u001b[0m \u001b[1;33m\u001b[0m\u001b[0m\n\u001b[0;32m    592\u001b[0m     \u001b[1;32mdef\u001b[0m \u001b[0mget\u001b[0m\u001b[1;33m(\u001b[0m\u001b[0mself\u001b[0m\u001b[1;33m)\u001b[0m\u001b[1;33m:\u001b[0m\u001b[1;33m\u001b[0m\u001b[1;33m\u001b[0m\u001b[0m\n",
      "\u001b[1;32m~\\anaconda3\\lib\\site-packages\\joblib\\parallel.py\u001b[0m in \u001b[0;36m__call__\u001b[1;34m(self)\u001b[0m\n\u001b[0;32m    254\u001b[0m         \u001b[1;32mwith\u001b[0m \u001b[0mparallel_backend\u001b[0m\u001b[1;33m(\u001b[0m\u001b[0mself\u001b[0m\u001b[1;33m.\u001b[0m\u001b[0m_backend\u001b[0m\u001b[1;33m,\u001b[0m \u001b[0mn_jobs\u001b[0m\u001b[1;33m=\u001b[0m\u001b[0mself\u001b[0m\u001b[1;33m.\u001b[0m\u001b[0m_n_jobs\u001b[0m\u001b[1;33m)\u001b[0m\u001b[1;33m:\u001b[0m\u001b[1;33m\u001b[0m\u001b[1;33m\u001b[0m\u001b[0m\n\u001b[0;32m    255\u001b[0m             return [func(*args, **kwargs)\n\u001b[1;32m--> 256\u001b[1;33m                     for func, args, kwargs in self.items]\n\u001b[0m\u001b[0;32m    257\u001b[0m \u001b[1;33m\u001b[0m\u001b[0m\n\u001b[0;32m    258\u001b[0m     \u001b[1;32mdef\u001b[0m \u001b[0m__len__\u001b[0m\u001b[1;33m(\u001b[0m\u001b[0mself\u001b[0m\u001b[1;33m)\u001b[0m\u001b[1;33m:\u001b[0m\u001b[1;33m\u001b[0m\u001b[1;33m\u001b[0m\u001b[0m\n",
      "\u001b[1;32m~\\anaconda3\\lib\\site-packages\\joblib\\parallel.py\u001b[0m in \u001b[0;36m<listcomp>\u001b[1;34m(.0)\u001b[0m\n\u001b[0;32m    254\u001b[0m         \u001b[1;32mwith\u001b[0m \u001b[0mparallel_backend\u001b[0m\u001b[1;33m(\u001b[0m\u001b[0mself\u001b[0m\u001b[1;33m.\u001b[0m\u001b[0m_backend\u001b[0m\u001b[1;33m,\u001b[0m \u001b[0mn_jobs\u001b[0m\u001b[1;33m=\u001b[0m\u001b[0mself\u001b[0m\u001b[1;33m.\u001b[0m\u001b[0m_n_jobs\u001b[0m\u001b[1;33m)\u001b[0m\u001b[1;33m:\u001b[0m\u001b[1;33m\u001b[0m\u001b[1;33m\u001b[0m\u001b[0m\n\u001b[0;32m    255\u001b[0m             return [func(*args, **kwargs)\n\u001b[1;32m--> 256\u001b[1;33m                     for func, args, kwargs in self.items]\n\u001b[0m\u001b[0;32m    257\u001b[0m \u001b[1;33m\u001b[0m\u001b[0m\n\u001b[0;32m    258\u001b[0m     \u001b[1;32mdef\u001b[0m \u001b[0m__len__\u001b[0m\u001b[1;33m(\u001b[0m\u001b[0mself\u001b[0m\u001b[1;33m)\u001b[0m\u001b[1;33m:\u001b[0m\u001b[1;33m\u001b[0m\u001b[1;33m\u001b[0m\u001b[0m\n",
      "\u001b[1;32m~\\anaconda3\\lib\\site-packages\\sklearn\\model_selection\\_validation.py\u001b[0m in \u001b[0;36m_fit_and_score\u001b[1;34m(estimator, X, y, scorer, train, test, verbose, parameters, fit_params, return_train_score, return_parameters, return_n_test_samples, return_times, return_estimator, error_score)\u001b[0m\n\u001b[0;32m    529\u001b[0m             \u001b[0mestimator\u001b[0m\u001b[1;33m.\u001b[0m\u001b[0mfit\u001b[0m\u001b[1;33m(\u001b[0m\u001b[0mX_train\u001b[0m\u001b[1;33m,\u001b[0m \u001b[1;33m**\u001b[0m\u001b[0mfit_params\u001b[0m\u001b[1;33m)\u001b[0m\u001b[1;33m\u001b[0m\u001b[1;33m\u001b[0m\u001b[0m\n\u001b[0;32m    530\u001b[0m         \u001b[1;32melse\u001b[0m\u001b[1;33m:\u001b[0m\u001b[1;33m\u001b[0m\u001b[1;33m\u001b[0m\u001b[0m\n\u001b[1;32m--> 531\u001b[1;33m             \u001b[0mestimator\u001b[0m\u001b[1;33m.\u001b[0m\u001b[0mfit\u001b[0m\u001b[1;33m(\u001b[0m\u001b[0mX_train\u001b[0m\u001b[1;33m,\u001b[0m \u001b[0my_train\u001b[0m\u001b[1;33m,\u001b[0m \u001b[1;33m**\u001b[0m\u001b[0mfit_params\u001b[0m\u001b[1;33m)\u001b[0m\u001b[1;33m\u001b[0m\u001b[1;33m\u001b[0m\u001b[0m\n\u001b[0m\u001b[0;32m    532\u001b[0m \u001b[1;33m\u001b[0m\u001b[0m\n\u001b[0;32m    533\u001b[0m     \u001b[1;32mexcept\u001b[0m \u001b[0mException\u001b[0m \u001b[1;32mas\u001b[0m \u001b[0me\u001b[0m\u001b[1;33m:\u001b[0m\u001b[1;33m\u001b[0m\u001b[1;33m\u001b[0m\u001b[0m\n",
      "\u001b[1;32m~\\anaconda3\\lib\\site-packages\\sklearn\\svm\\_base.py\u001b[0m in \u001b[0;36mfit\u001b[1;34m(self, X, y, sample_weight)\u001b[0m\n\u001b[0;32m    215\u001b[0m \u001b[1;33m\u001b[0m\u001b[0m\n\u001b[0;32m    216\u001b[0m         \u001b[0mseed\u001b[0m \u001b[1;33m=\u001b[0m \u001b[0mrnd\u001b[0m\u001b[1;33m.\u001b[0m\u001b[0mrandint\u001b[0m\u001b[1;33m(\u001b[0m\u001b[0mnp\u001b[0m\u001b[1;33m.\u001b[0m\u001b[0miinfo\u001b[0m\u001b[1;33m(\u001b[0m\u001b[1;34m'i'\u001b[0m\u001b[1;33m)\u001b[0m\u001b[1;33m.\u001b[0m\u001b[0mmax\u001b[0m\u001b[1;33m)\u001b[0m\u001b[1;33m\u001b[0m\u001b[1;33m\u001b[0m\u001b[0m\n\u001b[1;32m--> 217\u001b[1;33m         \u001b[0mfit\u001b[0m\u001b[1;33m(\u001b[0m\u001b[0mX\u001b[0m\u001b[1;33m,\u001b[0m \u001b[0my\u001b[0m\u001b[1;33m,\u001b[0m \u001b[0msample_weight\u001b[0m\u001b[1;33m,\u001b[0m \u001b[0msolver_type\u001b[0m\u001b[1;33m,\u001b[0m \u001b[0mkernel\u001b[0m\u001b[1;33m,\u001b[0m \u001b[0mrandom_seed\u001b[0m\u001b[1;33m=\u001b[0m\u001b[0mseed\u001b[0m\u001b[1;33m)\u001b[0m\u001b[1;33m\u001b[0m\u001b[1;33m\u001b[0m\u001b[0m\n\u001b[0m\u001b[0;32m    218\u001b[0m         \u001b[1;31m# see comment on the other call to np.iinfo in this file\u001b[0m\u001b[1;33m\u001b[0m\u001b[1;33m\u001b[0m\u001b[1;33m\u001b[0m\u001b[0m\n\u001b[0;32m    219\u001b[0m \u001b[1;33m\u001b[0m\u001b[0m\n",
      "\u001b[1;32m~\\anaconda3\\lib\\site-packages\\sklearn\\svm\\_base.py\u001b[0m in \u001b[0;36m_dense_fit\u001b[1;34m(self, X, y, sample_weight, solver_type, kernel, random_seed)\u001b[0m\n\u001b[0;32m    274\u001b[0m                 \u001b[0mcache_size\u001b[0m\u001b[1;33m=\u001b[0m\u001b[0mself\u001b[0m\u001b[1;33m.\u001b[0m\u001b[0mcache_size\u001b[0m\u001b[1;33m,\u001b[0m \u001b[0mcoef0\u001b[0m\u001b[1;33m=\u001b[0m\u001b[0mself\u001b[0m\u001b[1;33m.\u001b[0m\u001b[0mcoef0\u001b[0m\u001b[1;33m,\u001b[0m\u001b[1;33m\u001b[0m\u001b[1;33m\u001b[0m\u001b[0m\n\u001b[0;32m    275\u001b[0m                 \u001b[0mgamma\u001b[0m\u001b[1;33m=\u001b[0m\u001b[0mself\u001b[0m\u001b[1;33m.\u001b[0m\u001b[0m_gamma\u001b[0m\u001b[1;33m,\u001b[0m \u001b[0mepsilon\u001b[0m\u001b[1;33m=\u001b[0m\u001b[0mself\u001b[0m\u001b[1;33m.\u001b[0m\u001b[0mepsilon\u001b[0m\u001b[1;33m,\u001b[0m\u001b[1;33m\u001b[0m\u001b[1;33m\u001b[0m\u001b[0m\n\u001b[1;32m--> 276\u001b[1;33m                 max_iter=self.max_iter, random_seed=random_seed)\n\u001b[0m\u001b[0;32m    277\u001b[0m \u001b[1;33m\u001b[0m\u001b[0m\n\u001b[0;32m    278\u001b[0m         \u001b[0mself\u001b[0m\u001b[1;33m.\u001b[0m\u001b[0m_warn_from_fit_status\u001b[0m\u001b[1;33m(\u001b[0m\u001b[1;33m)\u001b[0m\u001b[1;33m\u001b[0m\u001b[1;33m\u001b[0m\u001b[0m\n",
      "\u001b[1;31mKeyboardInterrupt\u001b[0m: "
     ]
    }
   ],
   "source": [
    "from sklearn.svm import SVC\n",
    "# Set the parameters by cross-validation\n",
    "tuned_parameters = [{'kernel': ['rbf'], 'gamma': [1e-3, 1e-4],\n",
    "                     'C': [1, 10, 100, 1000]},\n",
    "                    {'kernel': ['linear'], 'C': [1, 10, 100, 1000]}]\n",
    "\n",
    "scores = ['recall']\n",
    "\n",
    "for score in scores:\n",
    "    print(\"# Tuning hyper-parameters for %s\" % score)\n",
    "    print()\n",
    "\n",
    "    clf = GridSearchCV(\n",
    "        SVC(random_state=42, probability=True), tuned_parameters, scoring='%s_macro' % score, cv=5\n",
    "    )\n",
    "    clf.fit(X_train, y_train)\n",
    "\n",
    "    print(\"Best parameters set found on development set:\")\n",
    "    print()\n",
    "    print(clf.best_params_)\n",
    "    print()\n",
    "    print(\"Grid scores on development set:\")\n",
    "    print()\n",
    "    means = clf.cv_results_['mean_test_score']\n",
    "    stds = clf.cv_results_['std_test_score']\n",
    "    for mean, std, params in zip(means, stds, clf.cv_results_['params']):\n",
    "        print(\"%0.3f (+/-%0.03f) for %r\"\n",
    "              % (mean, std * 2, params))\n",
    "    print()\n",
    "\n",
    "    print(\"Detailed classification report:\")\n",
    "    print()\n",
    "    print(\"The model is trained on the full development set.\")\n",
    "    print(\"The scores are computed on the full evaluation set.\")\n",
    "    print()\n",
    "    y_true, y_pred = y_test, clf.predict(X_test)\n",
    "    print(classification_report(y_true, y_pred))\n",
    "    plot_confusion_matrix(clf,X_test, y_test)\n",
    "    print()\n"
   ]
  },
  {
   "cell_type": "markdown",
   "metadata": {},
   "source": [
    "# NN"
   ]
  },
  {
   "cell_type": "code",
   "execution_count": 4,
   "metadata": {},
   "outputs": [],
   "source": [
    "import tensorflow.keras.backend as K\n",
    "def get_f1(y_true, y_pred): #taken from old keras source code\n",
    "    true_positives = K.sum(K.round(K.clip(y_true * y_pred, 0, 1)))\n",
    "    possible_positives = K.sum(K.round(K.clip(y_true, 0, 1)))\n",
    "    predicted_positives = K.sum(K.round(K.clip(y_pred, 0, 1)))\n",
    "    precision = true_positives / (predicted_positives + K.epsilon())\n",
    "    recall = true_positives / (possible_positives + K.epsilon())\n",
    "    f1_val = 2*(precision*recall)/(precision+recall+K.epsilon())\n",
    "    return f1_val"
   ]
  },
  {
   "cell_type": "code",
   "execution_count": 5,
   "metadata": {},
   "outputs": [],
   "source": [
    "from tensorflow.keras import regularizers\n",
    "from tensorflow.keras.preprocessing.sequence import pad_sequences\n",
    "from tensorflow.keras.layers import Embedding, Dense, GlobalMaxPooling1D, Dropout\n",
    "from tensorflow.keras.models import Sequential\n",
    "from tensorflow.keras import regularizers\n",
    "from tensorflow.keras.callbacks import EarlyStopping"
   ]
  },
  {
   "cell_type": "code",
   "execution_count": 6,
   "metadata": {},
   "outputs": [],
   "source": [
    "from tensorflow.keras import layers"
   ]
  },
  {
   "cell_type": "code",
   "execution_count": 7,
   "metadata": {},
   "outputs": [],
   "source": [
    "model = Sequential()\n",
    "# model.add(Embedding(7805, 128))\n",
    "model.add(Dense(85, input_dim=85,  activation='relu'))\n",
    "\n",
    "model.add(Dense(40, activation='tanh'))\n",
    "model.add(layers.Dropout(0.2))\n",
    "\n",
    "model.add(Dense(40, activation='relu'))\n",
    "# model.add(layers.Dropout(0.2))\n",
    "\n",
    "model.add(Dense(1, activation='sigmoid'))\n",
    "\n",
    "model.compile(loss='binary_crossentropy', optimizer='adam', metrics=['accuracy'])"
   ]
  },
  {
   "cell_type": "code",
   "execution_count": 84,
   "metadata": {},
   "outputs": [
    {
     "name": "stdout",
     "output_type": "stream",
     "text": [
      "(14926,)\n",
      "(14926, 85)\n"
     ]
    }
   ],
   "source": [
    "print(y_train.shape)\n",
    "print(X_train.shape)"
   ]
  },
  {
   "cell_type": "code",
   "execution_count": 17,
   "metadata": {
    "scrolled": true
   },
   "outputs": [
    {
     "name": "stdout",
     "output_type": "stream",
     "text": [
      "Epoch 1/100\n",
      "374/374 [==============================] - 1s 2ms/step - loss: 0.2669 - accuracy: 0.8953 - val_loss: 0.4249 - val_accuracy: 0.8376\n",
      "Epoch 2/100\n",
      "374/374 [==============================] - 0s 1ms/step - loss: 0.2237 - accuracy: 0.9113 - val_loss: 0.2088 - val_accuracy: 0.9317\n",
      "Epoch 3/100\n",
      "374/374 [==============================] - 0s 1ms/step - loss: 0.1984 - accuracy: 0.9219 - val_loss: 0.4275 - val_accuracy: 0.8222\n",
      "Epoch 4/100\n",
      "374/374 [==============================] - 0s 1ms/step - loss: 0.1697 - accuracy: 0.9379 - val_loss: 0.2632 - val_accuracy: 0.9072\n",
      "Epoch 5/100\n",
      "374/374 [==============================] - 0s 1ms/step - loss: 0.1510 - accuracy: 0.9420 - val_loss: 0.1855 - val_accuracy: 0.9411\n",
      "Epoch 6/100\n",
      "374/374 [==============================] - 0s 1ms/step - loss: 0.1393 - accuracy: 0.9503 - val_loss: 0.3433 - val_accuracy: 0.8704\n",
      "Epoch 7/100\n",
      "374/374 [==============================] - 0s 1ms/step - loss: 0.1291 - accuracy: 0.9534 - val_loss: 0.0672 - val_accuracy: 0.9802\n",
      "Epoch 8/100\n",
      "374/374 [==============================] - 0s 1ms/step - loss: 0.1165 - accuracy: 0.9586 - val_loss: 0.1824 - val_accuracy: 0.9390\n",
      "Epoch 9/100\n",
      "374/374 [==============================] - 0s 1ms/step - loss: 0.1113 - accuracy: 0.9578 - val_loss: 0.1066 - val_accuracy: 0.9689\n",
      "Epoch 10/100\n",
      "374/374 [==============================] - 0s 1ms/step - loss: 0.1004 - accuracy: 0.9634 - val_loss: 0.3121 - val_accuracy: 0.8744\n",
      "Epoch 11/100\n",
      "374/374 [==============================] - 0s 1ms/step - loss: 0.0967 - accuracy: 0.9649 - val_loss: 0.0808 - val_accuracy: 0.9739\n",
      "Epoch 12/100\n",
      "374/374 [==============================] - 0s 1ms/step - loss: 0.0918 - accuracy: 0.9657 - val_loss: 0.0940 - val_accuracy: 0.9705\n",
      "Epoch 13/100\n",
      "374/374 [==============================] - 0s 1ms/step - loss: 0.0837 - accuracy: 0.9709 - val_loss: 0.1485 - val_accuracy: 0.9441\n",
      "Epoch 14/100\n",
      "374/374 [==============================] - 0s 1ms/step - loss: 0.0841 - accuracy: 0.9679 - val_loss: 0.0896 - val_accuracy: 0.9672\n",
      "Epoch 15/100\n",
      "374/374 [==============================] - 0s 1ms/step - loss: 0.0782 - accuracy: 0.9713 - val_loss: 0.0922 - val_accuracy: 0.9715\n",
      "Epoch 16/100\n",
      "374/374 [==============================] - 0s 1ms/step - loss: 0.0773 - accuracy: 0.9724 - val_loss: 0.1478 - val_accuracy: 0.9417\n",
      "Epoch 17/100\n",
      "374/374 [==============================] - 0s 1ms/step - loss: 0.0753 - accuracy: 0.9719 - val_loss: 0.1052 - val_accuracy: 0.9615\n",
      "Epoch 18/100\n",
      "374/374 [==============================] - 0s 1ms/step - loss: 0.0739 - accuracy: 0.9726 - val_loss: 0.0447 - val_accuracy: 0.9839\n",
      "Epoch 19/100\n",
      "374/374 [==============================] - 0s 1ms/step - loss: 0.0689 - accuracy: 0.9757 - val_loss: 0.0870 - val_accuracy: 0.9668\n",
      "Epoch 20/100\n",
      "374/374 [==============================] - 0s 1ms/step - loss: 0.0629 - accuracy: 0.9776 - val_loss: 0.1083 - val_accuracy: 0.9601\n",
      "Epoch 21/100\n",
      "374/374 [==============================] - 0s 1ms/step - loss: 0.0618 - accuracy: 0.9774 - val_loss: 0.0567 - val_accuracy: 0.9796\n",
      "Epoch 22/100\n",
      "374/374 [==============================] - 0s 1ms/step - loss: 0.0618 - accuracy: 0.9782 - val_loss: 0.0869 - val_accuracy: 0.9709\n",
      "Epoch 23/100\n",
      "374/374 [==============================] - 0s 1ms/step - loss: 0.0538 - accuracy: 0.9806 - val_loss: 0.0581 - val_accuracy: 0.9786\n",
      "Epoch 24/100\n",
      "374/374 [==============================] - 0s 1ms/step - loss: 0.0574 - accuracy: 0.9793 - val_loss: 0.0130 - val_accuracy: 0.9973\n",
      "Epoch 25/100\n",
      "374/374 [==============================] - 0s 1ms/step - loss: 0.0552 - accuracy: 0.9801 - val_loss: 0.1758 - val_accuracy: 0.9253\n",
      "Epoch 26/100\n",
      "374/374 [==============================] - 0s 1ms/step - loss: 0.0519 - accuracy: 0.9804 - val_loss: 0.0792 - val_accuracy: 0.9709\n",
      "Epoch 27/100\n",
      "374/374 [==============================] - 0s 1ms/step - loss: 0.0553 - accuracy: 0.9802 - val_loss: 0.0527 - val_accuracy: 0.9819\n",
      "Epoch 28/100\n",
      "374/374 [==============================] - 0s 1ms/step - loss: 0.0489 - accuracy: 0.9827 - val_loss: 0.0605 - val_accuracy: 0.9769\n",
      "Epoch 29/100\n",
      "374/374 [==============================] - 0s 1ms/step - loss: 0.0485 - accuracy: 0.9822 - val_loss: 0.0482 - val_accuracy: 0.9836\n",
      "Epoch 30/100\n",
      "374/374 [==============================] - 0s 1ms/step - loss: 0.0513 - accuracy: 0.9822 - val_loss: 0.0851 - val_accuracy: 0.9689\n",
      "Epoch 31/100\n",
      "374/374 [==============================] - 0s 1ms/step - loss: 0.0469 - accuracy: 0.9831 - val_loss: 0.0398 - val_accuracy: 0.9859\n",
      "Epoch 32/100\n",
      "374/374 [==============================] - 0s 1ms/step - loss: 0.0469 - accuracy: 0.9828 - val_loss: 0.1807 - val_accuracy: 0.9267\n",
      "Epoch 33/100\n",
      "374/374 [==============================] - 1s 1ms/step - loss: 0.0481 - accuracy: 0.9841 - val_loss: 0.0610 - val_accuracy: 0.9789\n",
      "Epoch 34/100\n",
      "374/374 [==============================] - 0s 1ms/step - loss: 0.0467 - accuracy: 0.9837 - val_loss: 0.1119 - val_accuracy: 0.9615\n",
      "Epoch 35/100\n",
      "374/374 [==============================] - 0s 1ms/step - loss: 0.0462 - accuracy: 0.9824 - val_loss: 0.0501 - val_accuracy: 0.9816\n",
      "Epoch 36/100\n",
      "374/374 [==============================] - 1s 2ms/step - loss: 0.0433 - accuracy: 0.9852 - val_loss: 0.0735 - val_accuracy: 0.9729\n",
      "Epoch 37/100\n",
      "374/374 [==============================] - 0s 1ms/step - loss: 0.0435 - accuracy: 0.9843 - val_loss: 0.0350 - val_accuracy: 0.9876\n",
      "Epoch 38/100\n",
      "374/374 [==============================] - 0s 1ms/step - loss: 0.0434 - accuracy: 0.9838 - val_loss: 0.0181 - val_accuracy: 0.9953\n",
      "Epoch 39/100\n",
      "374/374 [==============================] - 0s 1ms/step - loss: 0.0449 - accuracy: 0.9839 - val_loss: 0.0888 - val_accuracy: 0.9665\n",
      "Epoch 40/100\n",
      "374/374 [==============================] - 0s 1ms/step - loss: 0.0402 - accuracy: 0.9848 - val_loss: 0.0848 - val_accuracy: 0.9689\n",
      "Epoch 41/100\n",
      "374/374 [==============================] - 0s 1ms/step - loss: 0.0394 - accuracy: 0.9856 - val_loss: 0.0281 - val_accuracy: 0.9900\n",
      "Epoch 42/100\n",
      "374/374 [==============================] - 0s 1ms/step - loss: 0.0403 - accuracy: 0.9860 - val_loss: 0.0252 - val_accuracy: 0.9903\n",
      "Epoch 43/100\n",
      "374/374 [==============================] - 0s 1ms/step - loss: 0.0388 - accuracy: 0.9865 - val_loss: 0.0665 - val_accuracy: 0.9742\n",
      "Epoch 44/100\n",
      "374/374 [==============================] - 0s 1ms/step - loss: 0.0402 - accuracy: 0.9848 - val_loss: 0.0521 - val_accuracy: 0.9839\n",
      "Epoch 45/100\n",
      "374/374 [==============================] - 0s 1ms/step - loss: 0.0365 - accuracy: 0.9865 - val_loss: 0.1155 - val_accuracy: 0.9588\n",
      "Epoch 46/100\n",
      "374/374 [==============================] - 0s 1ms/step - loss: 0.0398 - accuracy: 0.9853 - val_loss: 0.0576 - val_accuracy: 0.9809\n",
      "Epoch 47/100\n",
      "374/374 [==============================] - 0s 1ms/step - loss: 0.0352 - accuracy: 0.9883 - val_loss: 0.0740 - val_accuracy: 0.9745\n",
      "Epoch 48/100\n",
      "374/374 [==============================] - 0s 1ms/step - loss: 0.0382 - accuracy: 0.9863 - val_loss: 0.0308 - val_accuracy: 0.9896\n",
      "Epoch 49/100\n",
      "374/374 [==============================] - 0s 1ms/step - loss: 0.0392 - accuracy: 0.9858 - val_loss: 0.0266 - val_accuracy: 0.9906\n",
      "Epoch 50/100\n",
      "374/374 [==============================] - 0s 1ms/step - loss: 0.0345 - accuracy: 0.9874 - val_loss: 0.0304 - val_accuracy: 0.9896\n",
      "Epoch 51/100\n",
      "374/374 [==============================] - 0s 1ms/step - loss: 0.0383 - accuracy: 0.9855 - val_loss: 0.0301 - val_accuracy: 0.9906\n",
      "Epoch 52/100\n",
      "374/374 [==============================] - 0s 1ms/step - loss: 0.0376 - accuracy: 0.9863 - val_loss: 0.0188 - val_accuracy: 0.9930\n",
      "Epoch 53/100\n",
      "374/374 [==============================] - 0s 1ms/step - loss: 0.0400 - accuracy: 0.9854 - val_loss: 0.0861 - val_accuracy: 0.9668\n",
      "Epoch 54/100\n",
      "374/374 [==============================] - 0s 1ms/step - loss: 0.0379 - accuracy: 0.9862 - val_loss: 0.0560 - val_accuracy: 0.9839\n",
      "Epoch 55/100\n",
      "374/374 [==============================] - 0s 1ms/step - loss: 0.0351 - accuracy: 0.9871 - val_loss: 0.0507 - val_accuracy: 0.9829\n",
      "Epoch 56/100\n",
      "374/374 [==============================] - 0s 1ms/step - loss: 0.0338 - accuracy: 0.9869 - val_loss: 0.0202 - val_accuracy: 0.9930\n",
      "Epoch 57/100\n",
      "374/374 [==============================] - 0s 1ms/step - loss: 0.0327 - accuracy: 0.9879 - val_loss: 0.0475 - val_accuracy: 0.9823\n"
     ]
    },
    {
     "name": "stdout",
     "output_type": "stream",
     "text": [
      "Epoch 58/100\n",
      "374/374 [==============================] - 0s 1ms/step - loss: 0.0393 - accuracy: 0.9854 - val_loss: 0.0459 - val_accuracy: 0.9856\n",
      "Epoch 59/100\n",
      "374/374 [==============================] - 0s 1ms/step - loss: 0.0348 - accuracy: 0.9870 - val_loss: 0.0872 - val_accuracy: 0.9715\n",
      "Epoch 60/100\n",
      "374/374 [==============================] - 0s 1ms/step - loss: 0.0304 - accuracy: 0.9889 - val_loss: 0.0343 - val_accuracy: 0.9910\n",
      "Epoch 61/100\n",
      "374/374 [==============================] - 0s 1ms/step - loss: 0.0323 - accuracy: 0.9882 - val_loss: 0.0741 - val_accuracy: 0.9759\n",
      "Epoch 62/100\n",
      "374/374 [==============================] - 0s 1ms/step - loss: 0.0331 - accuracy: 0.9871 - val_loss: 0.0391 - val_accuracy: 0.9863\n",
      "Epoch 63/100\n",
      "374/374 [==============================] - 0s 1ms/step - loss: 0.0320 - accuracy: 0.9894 - val_loss: 0.0890 - val_accuracy: 0.9658\n",
      "Epoch 64/100\n",
      "374/374 [==============================] - 0s 1ms/step - loss: 0.0330 - accuracy: 0.9886 - val_loss: 0.0252 - val_accuracy: 0.9923\n",
      "Epoch 65/100\n",
      "374/374 [==============================] - 0s 1ms/step - loss: 0.0337 - accuracy: 0.9877 - val_loss: 0.0610 - val_accuracy: 0.9796\n",
      "Epoch 66/100\n",
      "374/374 [==============================] - 0s 1ms/step - loss: 0.0361 - accuracy: 0.9878 - val_loss: 0.0496 - val_accuracy: 0.9829\n",
      "Epoch 67/100\n",
      "374/374 [==============================] - 0s 1ms/step - loss: 0.0318 - accuracy: 0.9889 - val_loss: 0.0523 - val_accuracy: 0.9833\n",
      "Epoch 68/100\n",
      "374/374 [==============================] - 0s 1ms/step - loss: 0.0313 - accuracy: 0.9890 - val_loss: 0.0960 - val_accuracy: 0.9695\n",
      "Epoch 69/100\n",
      "374/374 [==============================] - 0s 1ms/step - loss: 0.0319 - accuracy: 0.9884 - val_loss: 0.0657 - val_accuracy: 0.9796\n",
      "Epoch 70/100\n",
      "374/374 [==============================] - 0s 1ms/step - loss: 0.0313 - accuracy: 0.9899 - val_loss: 0.0758 - val_accuracy: 0.9749\n",
      "Epoch 71/100\n",
      "374/374 [==============================] - 0s 1ms/step - loss: 0.0365 - accuracy: 0.9873 - val_loss: 0.0504 - val_accuracy: 0.9826\n",
      "Epoch 72/100\n",
      "374/374 [==============================] - 0s 1ms/step - loss: 0.0286 - accuracy: 0.9899 - val_loss: 0.0499 - val_accuracy: 0.9853\n",
      "Epoch 73/100\n",
      "374/374 [==============================] - 0s 1ms/step - loss: 0.0289 - accuracy: 0.9898 - val_loss: 0.0746 - val_accuracy: 0.9762\n",
      "Epoch 74/100\n",
      "374/374 [==============================] - 0s 1ms/step - loss: 0.0323 - accuracy: 0.9886 - val_loss: 0.0604 - val_accuracy: 0.9806\n",
      "Epoch 75/100\n",
      "374/374 [==============================] - 0s 1ms/step - loss: 0.0295 - accuracy: 0.9896 - val_loss: 0.0399 - val_accuracy: 0.9889\n",
      "Epoch 76/100\n",
      "374/374 [==============================] - 0s 1ms/step - loss: 0.0294 - accuracy: 0.9904 - val_loss: 0.0292 - val_accuracy: 0.9926\n",
      "Epoch 77/100\n",
      "374/374 [==============================] - 0s 1ms/step - loss: 0.0311 - accuracy: 0.9890 - val_loss: 0.0700 - val_accuracy: 0.9789\n",
      "Epoch 78/100\n",
      "374/374 [==============================] - 0s 1ms/step - loss: 0.0337 - accuracy: 0.9890 - val_loss: 0.0198 - val_accuracy: 0.9936\n",
      "Epoch 79/100\n",
      "374/374 [==============================] - 0s 1ms/step - loss: 0.0299 - accuracy: 0.9885 - val_loss: 0.0560 - val_accuracy: 0.9792\n",
      "Epoch 80/100\n",
      "374/374 [==============================] - 0s 1ms/step - loss: 0.0296 - accuracy: 0.9889 - val_loss: 0.0656 - val_accuracy: 0.9772\n",
      "Epoch 81/100\n",
      "374/374 [==============================] - 0s 1ms/step - loss: 0.0315 - accuracy: 0.9891 - val_loss: 0.0350 - val_accuracy: 0.9869\n",
      "Epoch 82/100\n",
      "374/374 [==============================] - 0s 1ms/step - loss: 0.0292 - accuracy: 0.9896 - val_loss: 0.0648 - val_accuracy: 0.9772\n",
      "Epoch 83/100\n",
      "374/374 [==============================] - 0s 1ms/step - loss: 0.0296 - accuracy: 0.9894 - val_loss: 0.0474 - val_accuracy: 0.9833\n",
      "Epoch 84/100\n",
      "374/374 [==============================] - 0s 1ms/step - loss: 0.0286 - accuracy: 0.9908 - val_loss: 0.0736 - val_accuracy: 0.9769\n",
      "Epoch 85/100\n",
      "374/374 [==============================] - 0s 1ms/step - loss: 0.0285 - accuracy: 0.9895 - val_loss: 0.0774 - val_accuracy: 0.9789\n",
      "Epoch 86/100\n",
      "374/374 [==============================] - 0s 1ms/step - loss: 0.0277 - accuracy: 0.9899 - val_loss: 0.0642 - val_accuracy: 0.9809\n",
      "Epoch 87/100\n",
      "374/374 [==============================] - 0s 1ms/step - loss: 0.0325 - accuracy: 0.9889 - val_loss: 0.0699 - val_accuracy: 0.9776\n",
      "Epoch 88/100\n",
      "374/374 [==============================] - 0s 1ms/step - loss: 0.0285 - accuracy: 0.9892 - val_loss: 0.0460 - val_accuracy: 0.9863\n",
      "Epoch 89/100\n",
      "374/374 [==============================] - 0s 1ms/step - loss: 0.0281 - accuracy: 0.9896 - val_loss: 0.0427 - val_accuracy: 0.9856\n",
      "Epoch 90/100\n",
      "374/374 [==============================] - 0s 1ms/step - loss: 0.0305 - accuracy: 0.9894 - val_loss: 0.0319 - val_accuracy: 0.9889\n",
      "Epoch 91/100\n",
      "374/374 [==============================] - 0s 1ms/step - loss: 0.0298 - accuracy: 0.9883 - val_loss: 0.0253 - val_accuracy: 0.9916\n",
      "Epoch 92/100\n",
      "374/374 [==============================] - 0s 1ms/step - loss: 0.0276 - accuracy: 0.9894 - val_loss: 0.0698 - val_accuracy: 0.9762\n",
      "Epoch 93/100\n",
      "374/374 [==============================] - 0s 1ms/step - loss: 0.0276 - accuracy: 0.9903 - val_loss: 0.0536 - val_accuracy: 0.9823\n",
      "Epoch 94/100\n",
      "374/374 [==============================] - 0s 1ms/step - loss: 0.0287 - accuracy: 0.9905 - val_loss: 0.0697 - val_accuracy: 0.9782\n",
      "Epoch 95/100\n",
      "374/374 [==============================] - 0s 1ms/step - loss: 0.0295 - accuracy: 0.9891 - val_loss: 0.0523 - val_accuracy: 0.9833\n",
      "Epoch 96/100\n",
      "374/374 [==============================] - 1s 1ms/step - loss: 0.0264 - accuracy: 0.9902 - val_loss: 0.0327 - val_accuracy: 0.9886\n",
      "Epoch 97/100\n",
      "374/374 [==============================] - 1s 1ms/step - loss: 0.0273 - accuracy: 0.9899 - val_loss: 0.0526 - val_accuracy: 0.9823\n",
      "Epoch 98/100\n",
      "374/374 [==============================] - 0s 1ms/step - loss: 0.0262 - accuracy: 0.9908 - val_loss: 0.0669 - val_accuracy: 0.9769\n",
      "Epoch 99/100\n",
      "374/374 [==============================] - 0s 1ms/step - loss: 0.0271 - accuracy: 0.9901 - val_loss: 0.0547 - val_accuracy: 0.9829\n",
      "Epoch 100/100\n",
      "374/374 [==============================] - 0s 1ms/step - loss: 0.0274 - accuracy: 0.9901 - val_loss: 0.0473 - val_accuracy: 0.9853\n"
     ]
    },
    {
     "data": {
      "text/plain": [
       "<tensorflow.python.keras.callbacks.History at 0x18448a5d2c8>"
      ]
     },
     "execution_count": 17,
     "metadata": {},
     "output_type": "execute_result"
    }
   ],
   "source": [
    "model.fit(X_train, y_train, validation_split=0.2, epochs=100,)"
   ]
  },
  {
   "cell_type": "code",
   "execution_count": 18,
   "metadata": {},
   "outputs": [
    {
     "name": "stdout",
     "output_type": "stream",
     "text": [
      "WARNING:tensorflow:From <ipython-input-18-1f9c7a8fd893>:1: Sequential.predict_classes (from tensorflow.python.keras.engine.sequential) is deprecated and will be removed after 2021-01-01.\n",
      "Instructions for updating:\n",
      "Please use instead:* `np.argmax(model.predict(x), axis=-1)`,   if your model does multi-class classification   (e.g. if it uses a `softmax` last-layer activation).* `(model.predict(x) > 0.5).astype(\"int32\")`,   if your model does binary classification   (e.g. if it uses a `sigmoid` last-layer activation).\n"
     ]
    },
    {
     "data": {
      "text/plain": [
       "array([[1],\n",
       "       [0],\n",
       "       [0],\n",
       "       ...,\n",
       "       [0],\n",
       "       [0],\n",
       "       [0]])"
      ]
     },
     "execution_count": 18,
     "metadata": {},
     "output_type": "execute_result"
    }
   ],
   "source": [
    "nn_pred=model.predict_classes(X_test)\n",
    "nn_pred"
   ]
  },
  {
   "cell_type": "code",
   "execution_count": 19,
   "metadata": {},
   "outputs": [
    {
     "name": "stdout",
     "output_type": "stream",
     "text": [
      "              precision    recall  f1-score   support\n",
      "\n",
      "         0.0       0.98      0.97      0.97      1867\n",
      "         1.0       0.41      0.48      0.44        85\n",
      "\n",
      "    accuracy                           0.95      1952\n",
      "   macro avg       0.69      0.73      0.71      1952\n",
      "weighted avg       0.95      0.95      0.95      1952\n",
      "\n"
     ]
    }
   ],
   "source": [
    "print(classification_report(y_test, nn_pred))"
   ]
  },
  {
   "cell_type": "code",
   "execution_count": 20,
   "metadata": {},
   "outputs": [
    {
     "data": {
      "text/plain": [
       "<matplotlib.axes._subplots.AxesSubplot at 0x184493ef588>"
      ]
     },
     "execution_count": 20,
     "metadata": {},
     "output_type": "execute_result"
    },
    {
     "data": {
      "image/png": "[encoded data removed]",
      "text/plain": [
       "<Figure size 432x288 with 2 Axes>"
      ]
     },
     "metadata": {
      "needs_background": "light"
     },
     "output_type": "display_data"
    }
   ],
   "source": [
    "from sklearn.metrics import confusion_matrix\n",
    "import seaborn as sns\n",
    "\n",
    "\n",
    "sns.heatmap(confusion_matrix(y_test, nn_pred),annot=True,fmt='d',cmap=\"YlGnBu\")"
   ]
  },
  {
   "cell_type": "code",
   "execution_count": 21,
   "metadata": {},
   "outputs": [
    {
     "data": {
      "text/plain": [
       "<matplotlib.axes._subplots.AxesSubplot at 0x18448c97508>"
      ]
     },
     "execution_count": 21,
     "metadata": {},
     "output_type": "execute_result"
    },
    {
     "data": {
      "image/png": "[encoded data removed]",
      "text/plain": [
       "<Figure size 432x288 with 2 Axes>"
      ]
     },
     "metadata": {
      "needs_background": "light"
     },
     "output_type": "display_data"
    }
   ],
   "source": [
    "from sklearn.metrics import confusion_matrix\n",
    "import seaborn as sns\n",
    "\n",
    "\n",
    "sns.heatmap(confusion_matrix(y_test, nn_pred),annot=True,fmt='d',cmap=\"YlGnBu\")"
   ]
  }
 ],
 "metadata": {
  "kernelspec": {
   "display_name": "Python 3",
   "language": "python",
   "name": "python3"
  },
  "language_info": {
   "codemirror_mode": {
    "name": "ipython",
    "version": 3
   },
   "file_extension": ".py",
   "mimetype": "text/x-python",
   "name": "python",
   "nbconvert_exporter": "python",
   "pygments_lexer": "ipython3",
   "version": "3.7.6"
  }
 },
 "nbformat": 4,
 "nbformat_minor": 4
}
